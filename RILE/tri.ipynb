{
 "cells": [
  {
   "cell_type": "code",
   "execution_count": 1,
   "metadata": {},
   "outputs": [],
   "source": [
    "import network_sim\n",
    "import gym\n",
    "import numpy as np\n",
    "import torch\n",
    "from specbuffer import ReplayBuffer\n",
    "from PPO import PPO"
   ]
  },
  {
   "cell_type": "code",
   "execution_count": 2,
   "metadata": {},
   "outputs": [
    {
     "name": "stdout",
     "output_type": "stream",
     "text": [
      "History length: 10\n",
      "Features: ['sent latency inflation', 'latency ratio', 'send ratio']\n",
      "Getting min obs for ['sent latency inflation', 'latency ratio', 'send ratio']\n"
     ]
    },
    {
     "name": "stderr",
     "output_type": "stream",
     "text": [
      "/home/yuc/.local/lib/python3.8/site-packages/gym/spaces/box.py:127: UserWarning: \u001b[33mWARN: Box bound precision lowered by casting to float32\u001b[0m\n",
      "  logger.warn(f\"Box bound precision lowered by casting to {self.dtype}\")\n"
     ]
    }
   ],
   "source": [
    "\n",
    "class ReplayBuffer:\n",
    "    def __init__(self,buffer_size):\n",
    "        self.buffer_size=buffer_size\n",
    "        self.index=0\n",
    "        self.state=[]\n",
    "        self.action=[]\n",
    "        self.logprobs=[]\n",
    "        self.next_state=[]\n",
    "        self.reward=[]\n",
    "        self.state_value=[]\n",
    "        self.done=[]\n",
    "        self.teacher_reward=torch.zeros(buffer_size)\n",
    "        self.islatest=False\n",
    "        self.state_buffer=[]\n",
    "        \n",
    "        \n",
    "    def store(self,state,action,log_prob=None,next_state=None,reward=None,state_value=None,done=None):\n",
    "        #buffer_size必须是400的倍数\n",
    "        self.state_buffer.append(state)\n",
    "        \n",
    "        next_state=torch.FloatTensor(next_state).view(-1)\n",
    "        action=torch.FloatTensor(action)\n",
    "        reward=torch.FloatTensor(np.array(reward))\n",
    "        if self.index>=self.buffer_size:\n",
    "            index=self.index%self.buffer_size\n",
    "            if done:\n",
    "                self.state[int(index/400)]=self.state_buffer\n",
    "                self.state_buffer=[]\n",
    "            self.action[index]=action\n",
    "            self.logprobs[index]=log_prob\n",
    "            self.next_state[index]=next_state\n",
    "            self.reward[index]=reward\n",
    "            self.state_value[index]=state_value\n",
    "            self.done[index]=done\n",
    "        else:\n",
    "            if done:\n",
    "                self.state.append(self.state_buffer)\n",
    "                self.state_buffer=[]\n",
    "            self.action.append(action)\n",
    "            self.logprobs.append(log_prob)\n",
    "            self.next_state.append(next_state)\n",
    "            self.reward.append(reward)\n",
    "            self.state_value.append(state_value)\n",
    "            self.done.append(done)\n",
    "        self.index+=1\n",
    "        \n",
    "        \n",
    "    def sample(self,batch_size,return_index=False):\n",
    "        sample_index=np.random.choice(min(self.buffer_size,self.index),batch_size,replace=True)\n",
    "        if return_index:\n",
    "            return sample_index\n",
    "        length=len(self.state[0])\n",
    "        state=[torch.FloatTensor(self.get_state_padding(self.state[int(i/length)],i%length,10,True)[0]).view(-1) for i in sample_index]\n",
    "        action=[self.action[i] for i in sample_index]\n",
    "        log_prob=[self.logprobs[i] for i in sample_index]\n",
    "        next_state=[self.next_state[i] for i in sample_index]\n",
    "        reward=[self.reward[i] for i in sample_index]\n",
    "        state_value=[self.state_value[i] for i in sample_index]\n",
    "        done=[self.done[i] for i in sample_index]\n",
    "        teacher_reward=[self.teacher_reward[i] for i in sample_index]\n",
    "        return state,action,log_prob,next_state,reward,state_value,done,teacher_reward\n",
    "    \n",
    "    def get_state_padding(self,a:list,index:int,offset:int,zero_padding:bool):\n",
    "        if not zero_padding:\n",
    "            # return a[max(0,index-offset):min(index+offset,len(a))]\n",
    "            return a[max(0,index-offset+1):index+1],a[index+1:min(index+offset+1,len(a)+1)]\n",
    "        b=a.copy()\n",
    "        zero_padding=np.copy(b[0])\n",
    "        for _ in range(offset):\n",
    "            b.insert(0,zero_padding)\n",
    "            b.append(zero_padding)\n",
    "        # return b[max(0,index):min(index+2*offset,len(a)+2*offset)]\n",
    "        return b[max(0,index+1):index+offset+1],b[index+offset+1:min(index+2*offset+1,len(a)+2*offset+1)]\n",
    "    \n",
    "    def state_from_index(self,index:list):\n",
    "        length=len(self.state[0])\n",
    "        state=[torch.FloatTensor(self.get_state_padding(self.state[int(i/length)],i%length,10,True)[0]).view(-1) for i in index]\n",
    "        return torch.stack(state,dim=0).detach().cuda()\n",
    "        \n",
    "    def clean(self):#这里暂时有个bug，不能解决append那里，不过暂时用不上这个函数，就先不管了\n",
    "        self.index=0\n",
    "        self.state=[]\n",
    "        self.action=[]\n",
    "        self.logprobs=[]\n",
    "        self.next_state=[]\n",
    "        self.reward=[]\n",
    "        self.state_value=[]\n",
    "        self.done=[]\n",
    "        self.teacher_reward=[]"
   ]
  },
  {
   "cell_type": "code",
   "execution_count": null,
   "metadata": {},
   "outputs": [],
   "source": [
    "env=gym.make('PccNs-v0')\n",
    "replaybuffer=ReplayBuffer(1600)"
   ]
  },
  {
   "cell_type": "code",
   "execution_count": 3,
   "metadata": {},
   "outputs": [],
   "source": [
    "model=PPO(30,1,replaybuffer)"
   ]
  },
  {
   "cell_type": "code",
   "execution_count": null,
   "metadata": {},
   "outputs": [],
   "source": [
    "for _ in range(5):\n",
    "    s=env.reset()\n",
    "    d=False\n",
    "    while not d:\n",
    "        a,action,l,v=model.select_action(s)\n",
    "        s_,r,d,_=env.step(a)\n",
    "        replaybuffer.store(s[-3:],a,l,s_,r,v,d)\n",
    "        s=s_"
   ]
  },
  {
   "cell_type": "code",
   "execution_count": 5,
   "metadata": {},
   "outputs": [
    {
     "name": "stderr",
     "output_type": "stream",
     "text": [
      "/home/tools/DR/MyProject/RILE/specbuffer.py:81: UserWarning: Creating a tensor from a list of numpy.ndarrays is extremely slow. Please consider converting the list to a single numpy.ndarray with numpy.array() before converting to a tensor. (Triggered internally at ../torch/csrc/utils/tensor_new.cpp:261.)\n",
      "  state=[torch.FloatTensor(self.get_state_padding(self.state[int(i/length)],i%length,10,True)[0]).view(-1) for i in index]\n"
     ]
    }
   ],
   "source": [
    "model.update(1024)"
   ]
  },
  {
   "cell_type": "markdown",
   "metadata": {},
   "source": [
    "def get_state_padding(a:list,index:int,offset:int,zero_padding:bool):\n",
    "    if not zero_padding:\n",
    "        # return a[max(0,index-offset):min(index+offset,len(a))]\n",
    "        return a[max(0,index-offset+1):index+1],a[index+1:min(index+offset+1,len(a)+1)]\n",
    "    b=a.copy()\n",
    "    zero_padding=np.copy(b[0])\n",
    "    for _ in range(offset):\n",
    "        b.insert(0,zero_padding)\n",
    "        b.append(zero_padding)\n",
    "    # return b[max(0,index):min(index+2*offset,len(a)+2*offset)]\n",
    "    return b[max(0,index+1):index+offset+1],b[index+offset+1:min(index+2*offset+1,len(a)+2*offset+1)]"
   ]
  },
  {
   "cell_type": "markdown",
   "metadata": {},
   "source": [
    "def get_state(a:list,index:int,offset:int):\n",
    "    return a[max(0,index-offset):min(index+offset,len(a))]\n",
    "    # return max(0,index-offset+1),min(index+offset+1,len(a))"
   ]
  },
  {
   "cell_type": "code",
   "execution_count": 8,
   "metadata": {},
   "outputs": [],
   "source": [
    "import json\n",
    "json_record={\n",
    "    'a':1\n",
    "}\n",
    "json_data=json.dumps(json_record,indent=3)\n",
    "\n",
    "with open('shiyixia.json','w') as f:\n",
    "    f.write(json_data)"
   ]
  },
  {
   "cell_type": "code",
   "execution_count": 1,
   "metadata": {},
   "outputs": [],
   "source": [
    "import numpy as np"
   ]
  },
  {
   "cell_type": "code",
   "execution_count": 3,
   "metadata": {},
   "outputs": [],
   "source": [
    "a=np.zeros((2,10))"
   ]
  },
  {
   "cell_type": "code",
   "execution_count": 8,
   "metadata": {},
   "outputs": [],
   "source": [
    "b=[a.copy() for _ in range(5)]"
   ]
  },
  {
   "cell_type": "code",
   "execution_count": 6,
   "metadata": {},
   "outputs": [],
   "source": [
    "import torch as t"
   ]
  },
  {
   "cell_type": "code",
   "execution_count": 13,
   "metadata": {},
   "outputs": [],
   "source": [
    "c=t.FloatTensor(np.array(b))"
   ]
  },
  {
   "cell_type": "code",
   "execution_count": 12,
   "metadata": {},
   "outputs": [],
   "source": [
    "d=t.FloatTensor(b)"
   ]
  },
  {
   "cell_type": "code",
   "execution_count": 16,
   "metadata": {},
   "outputs": [
    {
     "data": {
      "text/plain": [
       "torch.Size([5, 2, 10])"
      ]
     },
     "execution_count": 16,
     "metadata": {},
     "output_type": "execute_result"
    }
   ],
   "source": [
    "d.shape"
   ]
  },
  {
   "cell_type": "code",
   "execution_count": 17,
   "metadata": {},
   "outputs": [],
   "source": [
    "import json"
   ]
  },
  {
   "cell_type": "code",
   "execution_count": 19,
   "metadata": {},
   "outputs": [],
   "source": [
    "with open('eval/311518.json','r') as f:\n",
    "    a=json.load(f)"
   ]
  },
  {
   "cell_type": "code",
   "execution_count": 32,
   "metadata": {},
   "outputs": [
    {
     "data": {
      "text/plain": [
       "dict_keys(['model_name', 'reward_mean', 'reward_var'])"
      ]
     },
     "execution_count": 32,
     "metadata": {},
     "output_type": "execute_result"
    }
   ],
   "source": [
    "a[0].keys()"
   ]
  },
  {
   "cell_type": "code",
   "execution_count": 35,
   "metadata": {},
   "outputs": [],
   "source": [
    "import torch.nn as nn\n",
    "import torch"
   ]
  },
  {
   "cell_type": "code",
   "execution_count": 44,
   "metadata": {},
   "outputs": [],
   "source": [
    "a=torch.randn((5,5))\n",
    "b=torch.randn((5,1))"
   ]
  },
  {
   "cell_type": "code",
   "execution_count": 45,
   "metadata": {},
   "outputs": [],
   "source": [
    "loss=nn.MSELoss()"
   ]
  },
  {
   "cell_type": "code",
   "execution_count": 42,
   "metadata": {},
   "outputs": [
    {
     "data": {
      "text/plain": [
       "tensor([-0.1581, -0.2674, -0.7318,  1.7280, -0.5400])"
      ]
     },
     "execution_count": 42,
     "metadata": {},
     "output_type": "execute_result"
    }
   ],
   "source": [
    "b"
   ]
  },
  {
   "cell_type": "code",
   "execution_count": 46,
   "metadata": {},
   "outputs": [
    {
     "name": "stderr",
     "output_type": "stream",
     "text": [
      "/home/data/envs/IL/lib/python3.8/site-packages/torch/nn/modules/loss.py:535: UserWarning: Using a target size (torch.Size([5, 5])) that is different to the input size (torch.Size([5, 1])). This will likely lead to incorrect results due to broadcasting. Please ensure they have the same size.\n",
      "  return F.mse_loss(input, target, reduction=self.reduction)\n"
     ]
    },
    {
     "data": {
      "text/plain": [
       "tensor(1.1399)"
      ]
     },
     "execution_count": 46,
     "metadata": {},
     "output_type": "execute_result"
    }
   ],
   "source": [
    "loss(b,a)"
   ]
  }
 ],
 "metadata": {
  "kernelspec": {
   "display_name": "IL",
   "language": "python",
   "name": "python3"
  },
  "language_info": {
   "codemirror_mode": {
    "name": "ipython",
    "version": 3
   },
   "file_extension": ".py",
   "mimetype": "text/x-python",
   "name": "python",
   "nbconvert_exporter": "python",
   "pygments_lexer": "ipython3",
   "version": "3.8.18"
  }
 },
 "nbformat": 4,
 "nbformat_minor": 2
}
