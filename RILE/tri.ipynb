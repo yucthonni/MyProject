{
 "cells": [
  {
   "cell_type": "code",
   "execution_count": 96,
   "metadata": {},
   "outputs": [],
   "source": [
    "import network_sim\n",
    "import gym\n",
    "import numpy as np\n",
    "import torch\n",
    "from specbuffer import SpecReplayBuffer\n",
    "from PPO import PPO"
   ]
  },
  {
   "cell_type": "code",
   "execution_count": 109,
   "metadata": {},
   "outputs": [],
   "source": [
    "class SpecReplayBuffer:\n",
    "    def __init__(self,buffer_size):\n",
    "        self.buffer_size=buffer_size\n",
    "        self.index=0\n",
    "        self.state=[]\n",
    "        self.action=[]\n",
    "        self.logprobs=[]\n",
    "        self.next_state=[]\n",
    "        self.reward=[]\n",
    "        self.state_value=[]\n",
    "        self.done=[]\n",
    "        self.teacher_reward=torch.zeros(buffer_size)\n",
    "        self.islatest=False\n",
    "        self.state_buffer=[]\n",
    "        self.isAfter=False\n",
    "        \n",
    "        \n",
    "    def store(self,state,action,log_prob=None,next_state=None,reward=None,state_value=None,done=None):\n",
    "        #buffer_size必须是400的倍数\n",
    "        self.state_buffer.append(state)\n",
    "        \n",
    "        next_state=torch.FloatTensor(next_state).view(-1)\n",
    "        action=torch.FloatTensor(action)\n",
    "        reward=torch.FloatTensor(np.array(reward))\n",
    "        if self.index>=self.buffer_size:\n",
    "            index=self.index%self.buffer_size\n",
    "            if done:\n",
    "                self.state[int(index/400)]=self.state_buffer\n",
    "                self.state_buffer=[]\n",
    "            self.action[index]=action\n",
    "            self.logprobs[index]=log_prob\n",
    "            self.next_state[index]=next_state\n",
    "            self.reward[index]=reward\n",
    "            self.state_value[index]=state_value\n",
    "            self.done[index]=done\n",
    "        else:\n",
    "            if done:\n",
    "                self.state.append(self.state_buffer)\n",
    "                self.state_buffer=[]\n",
    "            self.action.append(action)\n",
    "            self.logprobs.append(log_prob)\n",
    "            self.next_state.append(next_state)\n",
    "            self.reward.append(reward)\n",
    "            self.state_value.append(state_value)\n",
    "            self.done.append(done)\n",
    "        self.index+=1\n",
    "        \n",
    "        \n",
    "    def sample(self,batch_size,return_index=False):\n",
    "        sample_index=np.random.choice(min(self.buffer_size,self.index),batch_size,replace=True)\n",
    "        if return_index:\n",
    "            return sample_index\n",
    "        length=len(self.state[0])\n",
    "        state=[torch.FloatTensor(self.get_state_padding(self.state[int(i/length)],i%length,10,True)[0]).view(-1) for i in sample_index]\n",
    "        action=[self.action[i] for i in sample_index]\n",
    "        log_prob=[self.logprobs[i] for i in sample_index]\n",
    "        next_state=[self.next_state[i] for i in sample_index]\n",
    "        reward=[self.reward[i] for i in sample_index]\n",
    "        state_value=[self.state_value[i] for i in sample_index]\n",
    "        done=[self.done[i] for i in sample_index]\n",
    "        teacher_reward=[self.teacher_reward[i] for i in sample_index]\n",
    "        return state,action,log_prob,next_state,reward,state_value,done,teacher_reward\n",
    "    \n",
    "    def get_state_padding(self,a:list,index:int,offset:int,zero_padding:bool):\n",
    "        if not zero_padding:\n",
    "            # return a[max(0,index-offset):min(index+offset,len(a))]\n",
    "            return a[max(0,index-offset+1):index+1],a[index+1:min(index+offset+1,len(a)+1)]\n",
    "        b=a.copy()\n",
    "        zero_padding=np.copy(b[0])\n",
    "        for _ in range(offset):\n",
    "            b.insert(0,zero_padding)\n",
    "            b.append(zero_padding)\n",
    "        # return b[max(0,index):min(index+2*offset,len(a)+2*offset)]\n",
    "        return b[max(0,index+1):index+offset+1],b[index+offset+1:min(index+2*offset+1,len(a)+2*offset+1)]\n",
    "    \n",
    "    def get_reward_padding(self,a:list,index:int,offset:int,interval:int,zero_padding:bool):\n",
    "        low=int(index/interval)*interval\n",
    "        high=(int(index/interval)+1)*interval\n",
    "        if not zero_padding:\n",
    "            # return a[max(0,index-offset):min(index+offset,len(a))]\n",
    "            return a[max(low,index-offset+1):index+1],a[index+1:min(index+offset+1,high)]\n",
    "        b=a.copy()\n",
    "        zero_padding=b[low]\n",
    "        for _ in range(offset):\n",
    "        # b.insert(low,zero_padding)\n",
    "            b.insert(high,zero_padding)\n",
    "        for _ in range(offset):\n",
    "            b.insert(low,zero_padding)\n",
    "        # return b[max(0,index):min(index+2*offset,len(a)+2*offset)]\n",
    "        return b[max(low,index+1):index+offset+1],b[index+offset+1:min(index+2*offset+1,high+2*offset)]\n",
    "    \n",
    "    \n",
    "    def state_from_index(self,index:list):\n",
    "        if self.isAfter:\n",
    "            return self.from_after_state(index)\n",
    "        else:\n",
    "            return self.from_before_state(index)\n",
    "    \n",
    "    def from_before_state(self,index:list):\n",
    "        length=len(self.state[0])\n",
    "        state=[torch.FloatTensor(np.array(self.get_state_padding(self.state[int(i/length)],i%length,10,True)[0])).view(-1) for i in index]\n",
    "        return torch.stack(state,dim=0).detach()\n",
    "    \n",
    "    def from_after_state(self,index:list):\n",
    "        length=len(self.state[0])\n",
    "        state=[torch.FloatTensor(np.array(self.get_state_padding(self.state[int(i/length)],i%length,10,True)[1])).view(-1) for i in index]\n",
    "        return torch.stack(state,dim=0).detach()\n",
    "    \n",
    "    def from_after_reward(self,index:list):\n",
    "        length=len(self.state[0])\n",
    "        state=[torch.FloatTensor(np.array(self.get_reward_padding(self.reward,i,10,length,True)[1])).view(-1) for i in index]\n",
    "        return torch.stack(state,dim=0).detach()\n",
    "        \n",
    "    def clean(self):#这里暂时有个bug，不能解决append那里，不过暂时用不上这个函数，就先不管了\n",
    "        self.index=0\n",
    "        self.state=[]\n",
    "        self.action=[]\n",
    "        self.logprobs=[]\n",
    "        self.next_state=[]\n",
    "        self.reward=[]\n",
    "        self.state_value=[]\n",
    "        self.done=[]\n",
    "        self.teacher_reward=[]\n",
    "        \n",
    "    def setAfter(self,isAfter:bool):\n",
    "        self.isAfter=isAfter"
   ]
  },
  {
   "cell_type": "code",
   "execution_count": 110,
   "metadata": {},
   "outputs": [
    {
     "name": "stdout",
     "output_type": "stream",
     "text": [
      "History length: 10\n",
      "Features: ['sent latency inflation', 'latency ratio', 'send ratio']\n",
      "Getting min obs for ['sent latency inflation', 'latency ratio', 'send ratio']\n"
     ]
    },
    {
     "name": "stderr",
     "output_type": "stream",
     "text": [
      "/home/yuc/.local/lib/python3.8/site-packages/gym/spaces/box.py:127: UserWarning: \u001b[33mWARN: Box bound precision lowered by casting to float32\u001b[0m\n",
      "  logger.warn(f\"Box bound precision lowered by casting to {self.dtype}\")\n"
     ]
    }
   ],
   "source": [
    "\n",
    "env=gym.make('PccNs-v0')\n",
    "replaybuffer=SpecReplayBuffer(1600)"
   ]
  },
  {
   "cell_type": "code",
   "execution_count": 111,
   "metadata": {},
   "outputs": [],
   "source": [
    "model=PPO(30,1,replaybuffer)"
   ]
  },
  {
   "cell_type": "code",
   "execution_count": 112,
   "metadata": {},
   "outputs": [
    {
     "name": "stderr",
     "output_type": "stream",
     "text": [
      "/home/yuc/.local/lib/python3.8/site-packages/gym/utils/passive_env_checker.py:174: UserWarning: \u001b[33mWARN: Future gym versions will require that `Env.reset` can be passed a `seed` instead of using `Env.seed` for resetting the environment random number generator.\u001b[0m\n",
      "  logger.warn(\n",
      "/home/yuc/.local/lib/python3.8/site-packages/gym/utils/passive_env_checker.py:187: UserWarning: \u001b[33mWARN: Future gym versions will require that `Env.reset` can be passed `options` to allow the environment initialisation to be passed additional information.\u001b[0m\n",
      "  logger.warn(\n",
      "/home/yuc/.local/lib/python3.8/site-packages/gym/utils/passive_env_checker.py:195: UserWarning: \u001b[33mWARN: The result returned by `env.reset()` was not a tuple of the form `(obs, info)`, where `obs` is a observation and `info` is a dictionary containing additional information. Actual type: `<class 'numpy.ndarray'>`\u001b[0m\n",
      "  logger.warn(\n",
      "/home/yuc/.local/lib/python3.8/site-packages/gym/utils/passive_env_checker.py:219: DeprecationWarning: \u001b[33mWARN: Core environment is written in old step API which returns one bool instead of two. It is recommended to rewrite the environment with new step API. \u001b[0m\n",
      "  logger.deprecation(\n",
      "/home/yuc/.local/lib/python3.8/site-packages/gym/utils/passive_env_checker.py:141: UserWarning: \u001b[33mWARN: The obs returned by the `step()` method was expecting numpy array dtype to be float32, actual type: float64\u001b[0m\n",
      "  logger.warn(\n",
      "/home/yuc/.local/lib/python3.8/site-packages/gym/utils/passive_env_checker.py:165: UserWarning: \u001b[33mWARN: The obs returned by the `step()` method is not within the observation space.\u001b[0m\n",
      "  logger.warn(f\"{pre} is not within the observation space.\")\n"
     ]
    },
    {
     "name": "stdout",
     "output_type": "stream",
     "text": [
      "Reward: 0.00, Ewma Reward: 0.00\n",
      "Reward: 192.45, Ewma Reward: 1.92\n",
      "Reward: -72.28, Ewma Reward: 1.18\n",
      "Reward: 111.67, Ewma Reward: 2.29\n",
      "Reward: 268.57, Ewma Reward: 4.95\n"
     ]
    }
   ],
   "source": [
    "for _ in range(5):\n",
    "    s=env.reset()\n",
    "    d=False\n",
    "    while not d:\n",
    "        a,action,l,v=model.select_action(s)\n",
    "        s_,r,d,_=env.step(a)\n",
    "        replaybuffer.store(s[-3:],a,l,s_,r,v,d)\n",
    "        s=s_"
   ]
  },
  {
   "cell_type": "code",
   "execution_count": 113,
   "metadata": {},
   "outputs": [
    {
     "data": {
      "text/plain": [
       "tensor([[ 1.5535,  1.5902,  1.6580,  1.7017,  1.7142,  1.6959,  1.6786,  1.7096,\n",
       "          1.7771,  1.7655],\n",
       "        [ 0.0912,  0.1404,  0.0691,  0.0296, -0.0024,  0.1644,  0.1390, -0.0394,\n",
       "          0.0940,  0.1136],\n",
       "        [ 1.5556,  1.5556,  1.5556,  1.5556,  1.5556,  1.5556,  1.5556,  1.5556,\n",
       "          1.5556,  1.5556]])"
      ]
     },
     "execution_count": 113,
     "metadata": {},
     "output_type": "execute_result"
    }
   ],
   "source": [
    "replaybuffer.from_after_reward([1,300,399])"
   ]
  },
  {
   "cell_type": "code",
   "execution_count": null,
   "metadata": {},
   "outputs": [],
   "source": [
    "model.update(1024)"
   ]
  },
  {
   "cell_type": "markdown",
   "metadata": {},
   "source": [
    "def get_state_padding(a:list,index:int,offset:int,zero_padding:bool):\n",
    "    if not zero_padding:\n",
    "        # return a[max(0,index-offset):min(index+offset,len(a))]\n",
    "        return a[max(0,index-offset+1):index+1],a[index+1:min(index+offset+1,len(a)+1)]\n",
    "    b=a.copy()\n",
    "    zero_padding=np.copy(b[0])\n",
    "    for _ in range(offset):\n",
    "        b.insert(0,zero_padding)\n",
    "        b.append(zero_padding)\n",
    "    # return b[max(0,index):min(index+2*offset,len(a)+2*offset)]\n",
    "    return b[max(0,index+1):index+offset+1],b[index+offset+1:min(index+2*offset+1,len(a)+2*offset+1)]"
   ]
  },
  {
   "cell_type": "markdown",
   "metadata": {},
   "source": [
    "def get_state(a:list,index:int,offset:int):\n",
    "    return a[max(0,index-offset):min(index+offset,len(a))]\n",
    "    # return max(0,index-offset+1),min(index+offset+1,len(a))"
   ]
  },
  {
   "cell_type": "code",
   "execution_count": 28,
   "metadata": {},
   "outputs": [],
   "source": [
    "policy=model.policy.to('cpu')"
   ]
  },
  {
   "cell_type": "code",
   "execution_count": 29,
   "metadata": {},
   "outputs": [],
   "source": [
    "torch.save(policy.state_dict(),'modelcpu.pt')"
   ]
  },
  {
   "cell_type": "code",
   "execution_count": 22,
   "metadata": {},
   "outputs": [
    {
     "data": {
      "text/plain": [
       "odict_keys(['actor.0.weight', 'actor.0.bias', 'actor.2.weight', 'actor.2.bias', 'actor.4.weight', 'actor.4.bias', 'critic.0.weight', 'critic.0.bias', 'critic.2.weight', 'critic.2.bias', 'critic.4.weight', 'critic.4.bias'])"
      ]
     },
     "execution_count": 22,
     "metadata": {},
     "output_type": "execute_result"
    }
   ],
   "source": [
    "model.state_dict().keys()"
   ]
  },
  {
   "cell_type": "code",
   "execution_count": 11,
   "metadata": {},
   "outputs": [
    {
     "ename": "TypeError",
     "evalue": "load_state_dict() missing 1 required positional argument: 'state_dict'",
     "output_type": "error",
     "traceback": [
      "\u001b[0;31m---------------------------------------------------------------------------\u001b[0m",
      "\u001b[0;31mTypeError\u001b[0m                                 Traceback (most recent call last)",
      "\u001b[1;32m/home/tools/DR/MyProject/RILE/tri.ipynb 单元格 31\u001b[0m line \u001b[0;36m1\n\u001b[0;32m----> <a href='vscode-notebook-cell:/home/tools/DR/MyProject/RILE/tri.ipynb#X42sZmlsZQ%3D%3D?line=0'>1</a>\u001b[0m model\u001b[39m.\u001b[39;49mpolicy\u001b[39m.\u001b[39;49mload_state_dict()\n",
      "\u001b[0;31mTypeError\u001b[0m: load_state_dict() missing 1 required positional argument: 'state_dict'"
     ]
    }
   ],
   "source": [
    "model.policy.load_state_dict()"
   ]
  },
  {
   "cell_type": "code",
   "execution_count": 88,
   "metadata": {},
   "outputs": [],
   "source": [
    "def get_state_padding(a:list,index:int,offset:int,interval:int,zero_padding:bool):\n",
    "    low=int(index/interval)*interval\n",
    "    high=(int(index/interval)+1)*interval\n",
    "    if not zero_padding:\n",
    "        # return a[max(0,index-offset):min(index+offset,len(a))]\n",
    "        return a[max(low,index-offset+1):index+1],a[index+1:min(index+offset+1,high)]\n",
    "    b=a.copy()\n",
    "    zero_padding=b[0]\n",
    "    for _ in range(offset):\n",
    "    # b.insert(low,zero_padding)\n",
    "        b.insert(high,zero_padding)\n",
    "    for _ in range(offset):\n",
    "        b.insert(low,zero_padding)\n",
    "    # return b[max(0,index):min(index+2*offset,len(a)+2*offset)]\n",
    "    return b[max(low,index+1):index+offset+1],b[index+offset+1:min(index+2*offset+1,high+2*offset)]"
   ]
  },
  {
   "cell_type": "code",
   "execution_count": 40,
   "metadata": {},
   "outputs": [],
   "source": [
    "import numpy as np"
   ]
  },
  {
   "cell_type": "code",
   "execution_count": 92,
   "metadata": {},
   "outputs": [],
   "source": [
    "l=[i for i in range(1600)]"
   ]
  },
  {
   "cell_type": "code",
   "execution_count": 86,
   "metadata": {},
   "outputs": [],
   "source": [
    "l.insert(5,0)"
   ]
  },
  {
   "cell_type": "code",
   "execution_count": 87,
   "metadata": {},
   "outputs": [
    {
     "data": {
      "text/plain": [
       "[0, 1, 2, 3, 4, 0, 0, 0, 5, 6, 7, 8, 9, 10, 11, 12, 13, 14, 15, 16, 17, 18, 19]"
      ]
     },
     "execution_count": 87,
     "metadata": {},
     "output_type": "execute_result"
    }
   ],
   "source": [
    "l"
   ]
  },
  {
   "cell_type": "code",
   "execution_count": 93,
   "metadata": {},
   "outputs": [
    {
     "data": {
      "text/plain": [
       "([385, 386, 387, 388, 389, 390, 391, 392, 393, 394, 395, 396, 397, 398, 399],\n",
       " [0, 0, 0, 0, 0, 0, 0, 0, 0, 0, 0, 0, 0, 0, 0])"
      ]
     },
     "execution_count": 93,
     "metadata": {},
     "output_type": "execute_result"
    }
   ],
   "source": [
    "get_state_padding(l,399,15,400,True)"
   ]
  },
  {
   "cell_type": "code",
   "execution_count": 46,
   "metadata": {},
   "outputs": [
    {
     "data": {
      "text/plain": [
       "([0, 1, 2, 3, 4, 5, 6, 7], [8, 9, 10])"
      ]
     },
     "execution_count": 46,
     "metadata": {},
     "output_type": "execute_result"
    }
   ],
   "source": [
    "offset=10\n",
    "max=20\n",
    "index=47\n",
    "low=int(index/max)*max\n",
    "high=int()\n",
    "l[max(low,index-offset+1):index+1],l[index+1:min(index+offset+1,high+1)]"
   ]
  },
  {
   "cell_type": "code",
   "execution_count": 95,
   "metadata": {},
   "outputs": [],
   "source": [
    "import importlib\n",
    "from specbuffer import SpecReplayBuffer"
   ]
  },
  {
   "cell_type": "code",
   "execution_count": null,
   "metadata": {},
   "outputs": [],
   "source": [
    "importlib.reload(SpecReplayBuffer)"
   ]
  },
  {
   "cell_type": "code",
   "execution_count": null,
   "metadata": {},
   "outputs": [],
   "source": [
    "env=gym.make('PccNs-v0')\n",
    "replaybuffer=ReplayBuffer(1600)"
   ]
  },
  {
   "cell_type": "code",
   "execution_count": 1,
   "metadata": {},
   "outputs": [],
   "source": [
    "from glob import glob"
   ]
  },
  {
   "cell_type": "code",
   "execution_count": 2,
   "metadata": {},
   "outputs": [],
   "source": [
    "filelist=glob('model/student/'+'011048'+'/studentmodel*.zip')"
   ]
  },
  {
   "cell_type": "code",
   "execution_count": 13,
   "metadata": {},
   "outputs": [],
   "source": [
    "import os\n",
    "for file in filelist:\n",
    "    os.remove(file)"
   ]
  },
  {
   "cell_type": "code",
   "execution_count": null,
   "metadata": {},
   "outputs": [],
   "source": []
  },
  {
   "cell_type": "code",
   "execution_count": 11,
   "metadata": {},
   "outputs": [
    {
     "ename": "NameError",
     "evalue": "name 'model' is not defined",
     "output_type": "error",
     "traceback": [
      "\u001b[0;31m---------------------------------------------------------------------------\u001b[0m",
      "\u001b[0;31mNameError\u001b[0m                                 Traceback (most recent call last)",
      "\u001b[1;32m/home/tools/DR/MyProject/RILE/tri.ipynb 单元格 27\u001b[0m line \u001b[0;36m1\n\u001b[0;32m----> <a href='vscode-notebook-cell:/home/tools/DR/MyProject/RILE/tri.ipynb#X36sZmlsZQ%3D%3D?line=0'>1</a>\u001b[0m model\u001b[39m.\u001b[39mpolicy_old\u001b[39m.\u001b[39mstate_dict\n",
      "\u001b[0;31mNameError\u001b[0m: name 'model' is not defined"
     ]
    }
   ],
   "source": [
    "model.policy_old.state_dict"
   ]
  },
  {
   "cell_type": "code",
   "execution_count": 10,
   "metadata": {},
   "outputs": [
    {
     "data": {
      "text/plain": [
       "['studentmodel1541',\n",
       " 'studentmodel1336',\n",
       " 'studentmodel1235',\n",
       " 'studentmodel1554',\n",
       " 'studentmodel1210',\n",
       " 'studentmodel1516',\n",
       " 'studentmodel1107',\n",
       " 'studentmodel1426',\n",
       " 'studentmodel1324',\n",
       " 'studentmodel1247',\n",
       " 'studentmodel1401',\n",
       " 'studentmodel1438',\n",
       " 'studentmodel1133',\n",
       " 'studentmodel1349',\n",
       " 'studentmodel1158',\n",
       " 'studentmodel1054',\n",
       " 'studentmodel1312',\n",
       " 'studentmodel1529',\n",
       " 'studentmodel1145',\n",
       " 'studentmodel1503',\n",
       " 'studentmodel1223',\n",
       " 'studentmodel1120',\n",
       " 'studentmodel1259',\n",
       " 'studentmodel1450',\n",
       " 'studentmodel1413']"
      ]
     },
     "execution_count": 10,
     "metadata": {},
     "output_type": "execute_result"
    }
   ],
   "source": [
    "[os.path.splitext(os.path.basename(file))[0] for file in filelist]"
   ]
  },
  {
   "cell_type": "code",
   "execution_count": 19,
   "metadata": {},
   "outputs": [],
   "source": [
    "path='/home/tools/DR/MyProject/RILE/model/student/deeptrain/studentmodel0855.pt'"
   ]
  },
  {
   "cell_type": "code",
   "execution_count": 20,
   "metadata": {},
   "outputs": [],
   "source": [
    "import torch\n",
    "from PPOee import ActorCritic"
   ]
  },
  {
   "cell_type": "code",
   "execution_count": 21,
   "metadata": {},
   "outputs": [],
   "source": [
    "model=torch.load(path)"
   ]
  },
  {
   "cell_type": "code",
   "execution_count": 22,
   "metadata": {},
   "outputs": [],
   "source": [
    "policy=ActorCritic(30,1,256,True,0.6)"
   ]
  },
  {
   "cell_type": "code",
   "execution_count": 24,
   "metadata": {},
   "outputs": [
    {
     "data": {
      "text/plain": [
       "<All keys matched successfully>"
      ]
     },
     "execution_count": 24,
     "metadata": {},
     "output_type": "execute_result"
    }
   ],
   "source": [
    "policy.load_state_dict(model)"
   ]
  },
  {
   "cell_type": "code",
   "execution_count": 25,
   "metadata": {},
   "outputs": [
    {
     "data": {
      "text/plain": [
       "ActorCritic(\n",
       "  (actor): Sequential(\n",
       "    (0): Linear(in_features=30, out_features=256, bias=True)\n",
       "    (1): Tanh()\n",
       "    (2): Linear(in_features=256, out_features=256, bias=True)\n",
       "    (3): Tanh()\n",
       "    (4): Linear(in_features=256, out_features=1, bias=True)\n",
       "    (5): Tanh()\n",
       "  )\n",
       "  (critic): Sequential(\n",
       "    (0): Linear(in_features=30, out_features=256, bias=True)\n",
       "    (1): Tanh()\n",
       "    (2): Linear(in_features=256, out_features=256, bias=True)\n",
       "    (3): Tanh()\n",
       "    (4): Linear(in_features=256, out_features=1, bias=True)\n",
       "  )\n",
       ")"
      ]
     },
     "execution_count": 25,
     "metadata": {},
     "output_type": "execute_result"
    }
   ],
   "source": [
    "policy.eval()"
   ]
  },
  {
   "cell_type": "code",
   "execution_count": 26,
   "metadata": {},
   "outputs": [
    {
     "data": {
      "text/plain": [
       "OrderedDict([('actor.0.weight',\n",
       "              tensor([[ 0.0374,  0.0195, -0.0213,  ...,  0.0164,  0.1193,  0.1862],\n",
       "                      [ 0.0241,  0.0792, -0.2097,  ...,  0.0701, -0.0685,  0.0475],\n",
       "                      [ 0.1589, -0.2461, -0.1575,  ..., -0.0352, -0.1951, -0.1851],\n",
       "                      ...,\n",
       "                      [-0.0811,  0.1265,  0.0634,  ..., -0.0206, -0.0903, -0.1365],\n",
       "                      [ 0.0016,  0.0238,  0.0131,  ..., -0.0886,  0.0612,  0.0979],\n",
       "                      [-0.2013,  0.0040,  0.0246,  ...,  0.0758, -0.0171, -0.1183]])),\n",
       "             ('actor.0.bias',\n",
       "              tensor([ 0.1957,  0.0230, -0.1045, -0.0657, -0.1229, -0.0330, -0.1649, -0.1021,\n",
       "                       0.0048,  0.1326,  0.1886,  0.0113,  0.0102, -0.1487, -0.1113,  0.0252,\n",
       "                       0.1452,  0.0172,  0.1518,  0.0358, -0.0635, -0.1791,  0.1580, -0.0981,\n",
       "                      -0.1446, -0.1661, -0.1724,  0.0569,  0.1991, -0.0569,  0.1114,  0.1207,\n",
       "                       0.1597,  0.0009,  0.1162,  0.1956,  0.0457,  0.0441,  0.0493,  0.0549,\n",
       "                       0.0320,  0.0583, -0.0800,  0.2122, -0.0079, -0.0026, -0.0244,  0.0746,\n",
       "                       0.0151,  0.0186,  0.0074,  0.0359,  0.1533,  0.1722, -0.0363, -0.0135,\n",
       "                       0.0688,  0.1115,  0.2268,  0.0710,  0.0259,  0.1397,  0.1938,  0.1660,\n",
       "                      -0.1467,  0.1051, -0.0243,  0.0951,  0.1103,  0.2072,  0.0646,  0.1004,\n",
       "                       0.0990, -0.0008,  0.1298, -0.1560,  0.0313,  0.0574, -0.2037, -0.0557,\n",
       "                      -0.0126, -0.0592,  0.0923, -0.2061,  0.0681,  0.0970,  0.1133,  0.2084,\n",
       "                      -0.1303, -0.1362, -0.1633,  0.1279, -0.0472, -0.1476, -0.1145, -0.0776,\n",
       "                      -0.1168,  0.0356,  0.0504, -0.1203,  0.0218,  0.0202,  0.0192, -0.1000,\n",
       "                      -0.1906, -0.1313, -0.1102,  0.1275,  0.2149, -0.0605,  0.1731, -0.1633,\n",
       "                      -0.1103, -0.1018,  0.2046, -0.1001,  0.1717,  0.0087,  0.1082,  0.0621,\n",
       "                       0.0600, -0.1311,  0.1746,  0.1229, -0.1120, -0.0220, -0.1680,  0.1968,\n",
       "                      -0.0962, -0.2042, -0.2047, -0.0434, -0.0953, -0.2073,  0.0783,  0.1367,\n",
       "                      -0.0735, -0.0511,  0.0498, -0.0280, -0.1012, -0.0785, -0.0318,  0.1055,\n",
       "                      -0.1183, -0.1268,  0.0147,  0.0827, -0.1987, -0.0858, -0.2246,  0.0416,\n",
       "                       0.0254, -0.0507, -0.2347,  0.0729,  0.0643,  0.1713,  0.0629, -0.2234,\n",
       "                      -0.0514, -0.1898, -0.1349,  0.0344,  0.0373, -0.0083, -0.0354, -0.0452,\n",
       "                      -0.0015,  0.0421, -0.0609,  0.1350, -0.0102,  0.0638, -0.0205,  0.1012,\n",
       "                       0.2031, -0.1198, -0.0053,  0.0591,  0.0083,  0.0952,  0.0879,  0.1390,\n",
       "                      -0.0998, -0.0498, -0.0129, -0.1628, -0.0443, -0.1487, -0.0351, -0.1055,\n",
       "                       0.1844, -0.0203,  0.0143, -0.0058,  0.0041,  0.0205,  0.0049,  0.0841,\n",
       "                       0.1633, -0.1318, -0.0056, -0.0317, -0.0626,  0.1038, -0.0526, -0.1322,\n",
       "                      -0.1252,  0.2197, -0.1568,  0.0140, -0.0244,  0.0079,  0.1762,  0.1351,\n",
       "                       0.1273, -0.1226,  0.0842,  0.0560,  0.1389,  0.1625,  0.1420, -0.1693,\n",
       "                      -0.0439,  0.1260, -0.1263,  0.1752, -0.0660,  0.0192,  0.2324,  0.0599,\n",
       "                       0.1513,  0.1219, -0.1069, -0.0698,  0.0566,  0.0953, -0.1828,  0.1857,\n",
       "                       0.0460,  0.1802,  0.2206, -0.1490,  0.0078,  0.0718,  0.1127, -0.0436,\n",
       "                       0.0043, -0.1179,  0.2153, -0.2149,  0.2068, -0.0981,  0.1870,  0.0652])),\n",
       "             ('actor.2.weight',\n",
       "              tensor([[ 0.0027,  0.0520,  0.0971,  ..., -0.0965, -0.1117,  0.1294],\n",
       "                      [-0.0365,  0.0859,  0.0368,  ..., -0.0618, -0.0975,  0.0287],\n",
       "                      [-0.0475, -0.0052,  0.0393,  ..., -0.0017, -0.0055,  0.0594],\n",
       "                      ...,\n",
       "                      [-0.0840,  0.0010,  0.0160,  ..., -0.0569, -0.0301,  0.0511],\n",
       "                      [ 0.0211, -0.1201, -0.0986,  ...,  0.0749,  0.1299, -0.0301],\n",
       "                      [-0.0330,  0.0277,  0.0681,  ..., -0.0316,  0.0040,  0.0746]])),\n",
       "             ('actor.2.bias',\n",
       "              tensor([-0.1172, -0.0427, -0.0169, -0.1085, -0.0844, -0.0064,  0.0468, -0.0678,\n",
       "                      -0.0908, -0.0595,  0.0087, -0.0503,  0.0137, -0.0693,  0.0051, -0.0843,\n",
       "                       0.0937, -0.0040, -0.0177, -0.0432,  0.0371,  0.0166, -0.0782,  0.0383,\n",
       "                      -0.0960, -0.0939,  0.0340,  0.0698,  0.0525, -0.0318,  0.0889,  0.0397,\n",
       "                      -0.0060,  0.0311,  0.0433,  0.0513, -0.0610,  0.0159, -0.0884,  0.0643,\n",
       "                       0.0091, -0.0003,  0.0484, -0.0201, -0.0208,  0.0690,  0.0078,  0.0583,\n",
       "                       0.0982, -0.0515, -0.0429,  0.0528,  0.0252, -0.1041, -0.0097, -0.0089,\n",
       "                      -0.0816,  0.0464, -0.0045,  0.0440, -0.0343,  0.0016, -0.0143,  0.0780,\n",
       "                      -0.0779,  0.0899,  0.1236, -0.0031,  0.0699, -0.0353,  0.0508, -0.1252,\n",
       "                      -0.0349,  0.0268, -0.0274,  0.0041,  0.0348, -0.0339,  0.0974, -0.0465,\n",
       "                       0.0660, -0.0032,  0.0454,  0.0849, -0.0098, -0.0203,  0.0309, -0.1454,\n",
       "                       0.0381, -0.1145, -0.0129,  0.0750, -0.0968,  0.0212,  0.0183, -0.0306,\n",
       "                       0.0294,  0.0616,  0.0983, -0.0042,  0.0381, -0.0601, -0.0120,  0.0728,\n",
       "                      -0.0011,  0.0817,  0.0849, -0.0522,  0.0644, -0.0143, -0.0373,  0.1348,\n",
       "                       0.0542,  0.1051,  0.0816, -0.0944,  0.0611, -0.1284,  0.0738, -0.0172,\n",
       "                      -0.0247, -0.0569, -0.0286,  0.0749, -0.0398, -0.1291,  0.1250,  0.0572,\n",
       "                      -0.0134,  0.0377, -0.0987,  0.1014, -0.0161,  0.0261, -0.0576,  0.1373,\n",
       "                      -0.0185,  0.0923, -0.0764, -0.0207, -0.0908,  0.0106, -0.0668,  0.0214,\n",
       "                      -0.0055, -0.0038,  0.0216,  0.0254, -0.0541, -0.0363, -0.0667, -0.0227,\n",
       "                       0.0086, -0.1347,  0.0532, -0.0869, -0.0393, -0.0036,  0.0217,  0.0584,\n",
       "                      -0.0563,  0.0202, -0.0257, -0.0186,  0.0691,  0.0759, -0.0080, -0.1466,\n",
       "                      -0.0301,  0.0701,  0.0650, -0.0137,  0.0849, -0.0484,  0.0999, -0.0016,\n",
       "                      -0.0618,  0.0711, -0.0177,  0.0941,  0.0007, -0.0557,  0.1006,  0.0598,\n",
       "                      -0.0521,  0.0523,  0.0410,  0.0239, -0.0505,  0.0185,  0.0923, -0.0369,\n",
       "                      -0.0665, -0.1148, -0.0408, -0.0993, -0.0379, -0.0606,  0.0774,  0.0260,\n",
       "                      -0.0164, -0.0892, -0.0805, -0.0200,  0.0388, -0.0919, -0.0051, -0.0446,\n",
       "                      -0.0317, -0.0049, -0.0823, -0.0350, -0.1163, -0.0644,  0.0572,  0.0051,\n",
       "                      -0.0646, -0.0871, -0.0052,  0.0750, -0.0167,  0.0033, -0.0076, -0.1086,\n",
       "                       0.0117, -0.0251, -0.0002,  0.0112,  0.0018, -0.1145,  0.0388, -0.0329,\n",
       "                      -0.0730,  0.0219,  0.0803,  0.0447, -0.0719,  0.0747, -0.0361,  0.0432,\n",
       "                       0.0076, -0.0975,  0.0579,  0.0229,  0.0448,  0.0427, -0.0674,  0.0964,\n",
       "                      -0.0019,  0.0739, -0.0174, -0.0233, -0.1279,  0.0286,  0.0324, -0.0799])),\n",
       "             ('actor.4.weight',\n",
       "              tensor([[-6.2309e-02, -6.4708e-02, -1.2920e-02, -5.3669e-02, -7.0585e-02,\n",
       "                       -6.7223e-03,  2.6357e-02, -7.2626e-02, -6.4004e-02, -1.9094e-02,\n",
       "                        7.2147e-03, -1.7200e-02,  1.1067e-02, -7.2187e-02, -5.1761e-02,\n",
       "                       -8.4381e-03,  1.0166e-02, -6.7749e-03,  3.1609e-02, -1.6522e-02,\n",
       "                       -2.3764e-02,  7.5247e-02, -6.3579e-02, -2.7509e-02, -5.3556e-02,\n",
       "                       -4.5676e-02,  1.5556e-02,  1.9558e-01,  6.5263e-02,  2.4083e-02,\n",
       "                        6.0122e-02,  3.6052e-02, -1.9828e-02,  2.6422e-02,  8.2946e-03,\n",
       "                        2.6065e-02, -3.5913e-03, -1.8689e-02, -1.0196e-02,  7.2568e-02,\n",
       "                        2.0166e-02, -8.1687e-03,  1.2601e-02, -5.9253e-02, -5.0760e-02,\n",
       "                        6.8190e-02,  6.0920e-03,  5.2451e-02,  1.6014e-01, -1.1526e-02,\n",
       "                       -3.8457e-02,  8.8109e-02,  5.6239e-02, -7.1163e-02, -2.0470e-02,\n",
       "                       -5.8082e-02, -1.5495e-01,  6.1740e-02,  1.4770e-02,  1.4075e-02,\n",
       "                       -2.4020e-02,  2.0057e-02, -5.1060e-02,  1.6899e-02, -5.4567e-02,\n",
       "                        8.6657e-02,  7.6439e-02,  1.7830e-03,  2.5929e-01, -1.9471e-02,\n",
       "                        2.2570e-02, -9.7469e-02, -3.7354e-02,  1.2344e-02, -7.6607e-02,\n",
       "                        5.9690e-03,  2.8335e-02, -8.0284e-02,  1.3072e-01, -1.7787e-02,\n",
       "                        6.6890e-02,  3.8816e-02,  5.6314e-02,  6.9857e-02, -2.6920e-02,\n",
       "                        1.5672e-02,  1.5550e-01, -1.7054e-01,  2.5797e-02, -7.6550e-02,\n",
       "                        1.9167e-02,  5.6896e-02, -1.3632e-01,  1.4700e-03,  9.9888e-02,\n",
       "                        6.9078e-03,  6.8694e-03,  7.5747e-02,  1.3522e-02,  1.6839e-02,\n",
       "                        2.5877e-02, -5.5945e-02, -1.1798e-02,  6.6899e-02, -5.3512e-03,\n",
       "                        8.1960e-03,  1.4145e-02, -1.4843e-02,  7.0259e-02,  2.7512e-02,\n",
       "                       -7.9720e-02,  2.0239e-01, -3.6662e-03,  6.6263e-02,  1.8366e-02,\n",
       "                       -5.5934e-02,  2.3350e-03, -6.9758e-02,  2.1552e-02, -1.9238e-02,\n",
       "                       -7.7046e-02, -3.9899e-02, -1.0614e-02, -1.6383e-02, -2.0209e-02,\n",
       "                       -5.7905e-02,  6.6747e-02,  2.5348e-02, -6.9166e-03,  9.8008e-02,\n",
       "                       -7.5266e-02,  6.0687e-02, -5.1675e-02,  3.0212e-02, -6.7457e-02,\n",
       "                        7.8728e-02,  5.7972e-03,  7.1886e-02, -5.7545e-02, -6.2501e-02,\n",
       "                       -7.9389e-02,  4.5764e-02,  4.6375e-03, -1.4603e-02, -1.7664e-02,\n",
       "                       -5.8359e-02,  1.8158e-02,  2.0345e-02,  3.6645e-02, -6.4278e-02,\n",
       "                       -6.8737e-02, -1.1985e-02,  3.5833e-02, -6.5705e-02,  6.2192e-02,\n",
       "                       -1.8159e-02, -1.2904e-02, -7.0217e-03,  5.5218e-02,  5.7770e-02,\n",
       "                       -1.6627e-01,  5.7514e-02,  3.2671e-02,  6.5207e-03,  6.5845e-02,\n",
       "                        6.3984e-02,  1.3930e-02, -7.3749e-02, -7.0737e-02,  5.0004e-02,\n",
       "                        7.5596e-03, -1.7769e-02,  2.4481e-02, -6.8759e-02,  7.0050e-03,\n",
       "                        4.7216e-02, -1.4377e-02,  5.6877e-02, -2.8547e-02,  7.5581e-02,\n",
       "                       -3.2247e-03, -8.2182e-02,  1.2288e-01,  2.7787e-02, -6.1446e-03,\n",
       "                        5.9420e-02,  1.2020e-02,  4.2617e-03, -6.4065e-02, -3.0371e-02,\n",
       "                        6.6707e-02, -2.8884e-02, -6.8371e-02, -5.9023e-02,  2.1162e-02,\n",
       "                       -8.4929e-03, -6.2175e-02, -7.6003e-02,  4.6455e-02, -1.6932e-02,\n",
       "                       -7.4993e-03, -4.8219e-03, -6.9788e-02,  5.7392e-02, -3.8155e-02,\n",
       "                       -5.5541e-02,  5.3493e-02, -2.1057e-02, -1.7699e-02, -7.0370e-03,\n",
       "                       -4.4312e-05, -4.2879e-03, -7.5225e-02, -1.4409e-02,  4.3492e-02,\n",
       "                        1.1113e-02, -1.3494e-02, -1.6834e-01, -7.1385e-03,  5.0988e-02,\n",
       "                        2.0587e-02, -7.5851e-02,  3.5215e-02, -7.7204e-02, -5.8696e-02,\n",
       "                       -5.4396e-03,  1.6000e-02,  3.4527e-02,  1.7911e-02, -6.1268e-02,\n",
       "                       -7.3623e-03,  3.0757e-02, -6.3384e-02,  6.9222e-02,  2.0060e-02,\n",
       "                        9.9427e-03, -7.4150e-02,  1.4859e-02, -7.1935e-02,  1.3150e-02,\n",
       "                        2.3832e-02, -6.1465e-02,  5.4910e-03,  4.2194e-02, -2.7637e-02,\n",
       "                       -2.8930e-02, -1.4873e-02,  5.6003e-02, -4.0981e-02,  6.4657e-02,\n",
       "                       -7.2183e-02, -1.9436e-02, -8.5453e-02, -2.0136e-02,  6.3736e-02,\n",
       "                       -2.0032e-02]])),\n",
       "             ('actor.4.bias', tensor([0.0918])),\n",
       "             ('critic.0.weight',\n",
       "              tensor([[ 1.2556, -0.6687,  0.7981,  ..., -0.2854, -0.3999,  0.6711],\n",
       "                      [ 1.7788, -0.0209, -0.9404,  ..., -3.4214,  0.0760, -0.9215],\n",
       "                      [ 0.6656, -0.1663, -0.8099,  ..., -1.8564, -0.0236, -0.6942],\n",
       "                      ...,\n",
       "                      [-3.1796,  0.3854,  0.3752,  ...,  1.6248, -0.0417,  0.7997],\n",
       "                      [ 0.8783, -0.3002, -0.5374,  ..., -1.5753,  0.0700, -0.6639],\n",
       "                      [ 4.0404, -0.0506,  1.8073,  ...,  3.9104,  0.1640,  0.1516]])),\n",
       "             ('critic.0.bias',\n",
       "              tensor([ 1.1611e+00, -7.4844e-01,  2.5732e-01, -6.3624e-01, -1.7178e+00,\n",
       "                       1.0852e-02,  1.9734e-01, -2.7742e+00,  7.5764e-01,  1.3609e+00,\n",
       "                      -6.1221e-01,  9.8707e-01,  2.5890e-01, -5.2339e-01,  1.7953e-01,\n",
       "                       1.0603e+00,  9.9815e-01,  1.3270e+00, -8.9025e-02, -7.3442e-01,\n",
       "                      -2.6484e-01, -5.1554e-01, -2.0149e+00, -8.2313e-01, -2.0359e+00,\n",
       "                      -2.1126e+00, -5.5515e-01, -2.4378e-01,  9.8356e-01, -1.5275e-01,\n",
       "                       1.3316e+00, -3.4075e-01,  6.4448e-01,  4.3169e-01, -1.4584e+00,\n",
       "                      -6.5598e-02,  2.4869e-02, -1.6063e+00,  4.9811e-01, -1.8449e+00,\n",
       "                       6.0303e-01, -4.4059e-01,  5.6719e+00, -8.6731e-02, -3.2704e-01,\n",
       "                      -2.5873e-01, -3.6975e-01,  1.0064e+00, -6.5466e-01, -9.0932e-01,\n",
       "                       1.1963e+00, -1.1044e+00,  5.1179e-01, -2.1018e+00, -6.3381e-01,\n",
       "                      -1.0118e+00, -1.3872e+00,  1.9200e-01,  3.6897e-01, -1.5195e+00,\n",
       "                       1.3978e+00,  2.5140e-03,  2.4564e+00,  8.8218e-01, -3.8656e-01,\n",
       "                      -1.1403e-01, -2.8478e-01,  1.3555e-01,  5.5307e-01, -1.6714e-01,\n",
       "                       5.2919e-01, -9.8789e-02,  5.4070e-01, -5.1123e-02, -7.2232e-01,\n",
       "                       2.5983e-01, -2.3490e-01,  1.2670e+00, -1.2545e+00,  4.9649e-01,\n",
       "                      -1.0835e-01, -9.6561e-02, -2.3115e-01, -7.1099e-01,  3.1859e-01,\n",
       "                       5.6884e-02,  7.9245e-01, -2.5101e-01,  1.7178e+00, -1.6222e+00,\n",
       "                      -7.1706e-01, -1.2487e+00, -2.2884e+00, -1.0774e+00, -4.0601e-01,\n",
       "                      -3.4368e+00, -7.6590e-01, -4.0406e-01, -1.7055e+00, -7.9203e-01,\n",
       "                      -8.4985e-03,  2.8792e-01, -7.3364e-01, -6.1042e-01,  2.1261e+00,\n",
       "                       5.5604e-01,  1.4651e+00, -1.1336e+00, -1.1514e+00,  1.2960e-01,\n",
       "                       3.6726e-01,  5.9018e-01,  6.6333e-02, -1.9802e-01, -2.5495e-01,\n",
       "                       1.6171e-01, -5.3518e-02, -5.7287e-01,  9.0004e-01,  5.7339e-01,\n",
       "                       9.1523e-02, -2.3186e+00,  1.0956e+00, -9.4485e-01,  5.3742e-01,\n",
       "                       3.0607e+00,  1.5722e+00,  8.2164e-02,  3.1941e-01,  4.9694e-01,\n",
       "                      -3.2852e+00,  1.9075e+00,  2.4886e+00, -1.5585e+00,  8.7139e-01,\n",
       "                       3.9971e-01, -2.9227e-01, -6.5347e-01,  2.0744e+00, -7.6160e-01,\n",
       "                      -1.4069e-01,  9.2699e-02, -6.7061e-01,  1.6938e-01, -4.8614e-01,\n",
       "                       1.3195e-01, -1.1357e+00, -1.8437e+00, -1.4721e+00,  2.5974e-01,\n",
       "                      -3.6537e-01, -8.1072e-01,  1.8836e+00, -1.7981e-01, -1.5144e+00,\n",
       "                       1.3252e+00,  1.6744e+00, -1.2371e+00,  1.0734e+00,  3.5849e+00,\n",
       "                      -2.8340e-02, -4.9464e-01,  4.9207e-01,  1.5768e-01,  5.6302e-01,\n",
       "                      -6.0530e-01, -1.4472e+00,  3.1157e+00,  6.7366e-01,  5.2461e-01,\n",
       "                      -9.8656e-01,  3.7565e-01,  1.5487e-01, -1.2747e+00,  1.0736e+00,\n",
       "                      -1.2552e+00,  6.5109e-01,  3.3741e-01,  6.2391e-01, -7.2786e-01,\n",
       "                       1.6136e+00,  2.0134e+00, -4.5604e-01, -3.9881e-01, -2.4251e-01,\n",
       "                       1.6623e+00, -5.1587e-01,  3.2830e-01, -4.9597e-01, -5.5921e-01,\n",
       "                      -1.2051e+00,  8.7782e-01,  1.3194e+00,  7.5622e-01, -3.3898e-01,\n",
       "                      -1.2344e+00,  1.9839e-01,  1.5597e+00, -4.5862e-01,  4.1158e+00,\n",
       "                       1.9946e+00, -6.9022e-01, -3.1029e-01,  1.7476e-01,  4.1235e+00,\n",
       "                      -1.7360e-02,  4.1217e-01,  2.0057e-01,  1.1764e-01, -2.6988e-01,\n",
       "                      -5.8796e-01, -2.4758e-01, -4.2958e+00, -4.3851e-01,  5.5613e-01,\n",
       "                       9.7996e-02,  4.4341e-03, -3.6396e-01,  2.7744e-01,  1.6531e+00,\n",
       "                       7.8532e-01, -7.5203e-02,  1.3490e+00, -2.2167e-01, -1.6148e-01,\n",
       "                      -3.8275e-01, -8.6697e-01,  1.5694e-01,  5.0495e-01, -7.3558e-01,\n",
       "                       3.5044e-01, -8.8175e-01, -2.5299e-01, -6.4581e-01, -3.2868e+00,\n",
       "                      -2.4115e+00, -3.6945e+00,  8.1306e-01, -1.5851e+00,  5.9876e-01,\n",
       "                      -1.9180e-01, -2.2667e+00,  1.5101e-01,  5.8651e-01, -3.4211e+00,\n",
       "                      -2.2481e-01, -1.1059e+00,  5.7913e-02, -5.0350e-01,  9.1284e-01,\n",
       "                       1.8581e+00,  3.1469e-01, -4.4470e-02, -6.8877e-01,  2.0446e-01,\n",
       "                      -2.3714e+00])),\n",
       "             ('critic.2.weight',\n",
       "              tensor([[-0.1176, -0.0298, -0.4978,  ...,  0.4004, -0.4245, -0.1315],\n",
       "                      [ 0.0347, -0.1181, -0.3528,  ...,  0.3246, -0.3751, -0.0988],\n",
       "                      [ 1.0053, -0.4712, -0.2449,  ...,  0.5706, -0.2471,  0.7513],\n",
       "                      ...,\n",
       "                      [ 0.2585, -0.1729, -0.8031,  ...,  1.5009, -1.3853,  0.1385],\n",
       "                      [ 0.3342, -0.0882,  0.4394,  ..., -0.4684,  0.4937,  0.3217],\n",
       "                      [-0.0151,  0.2184,  0.1943,  ..., -0.2762,  0.2860, -0.0496]])),\n",
       "             ('critic.2.bias',\n",
       "              tensor([ 0.4523,  0.2313,  0.2417,  0.4240, -0.1542, -0.0132,  0.3139, -0.1158,\n",
       "                      -0.3269, -0.6409,  0.2725,  0.2668, -0.4583,  0.2786, -0.5578, -0.3186,\n",
       "                      -0.3670,  0.2752,  0.0611, -0.4349, -0.4000, -0.3735, -0.2262, -0.1220,\n",
       "                      -0.3634, -0.2281, -0.3524,  0.0816,  0.0242,  0.3069,  0.2565, -0.7338,\n",
       "                       0.1587,  0.0337, -0.2823, -0.4499,  0.2611,  0.2692,  0.2981,  0.2020,\n",
       "                      -0.3857,  0.2529,  0.0539,  0.1292,  0.2918,  0.6234, -0.2538, -0.3479,\n",
       "                      -0.3849,  0.0280, -0.4097, -0.3563,  0.2148,  0.3387, -0.1638, -0.0606,\n",
       "                       0.1418, -0.1581,  0.3084, -0.3443,  0.0796, -0.1841,  0.3306,  0.3180,\n",
       "                       0.3271, -0.0629,  0.0547, -0.1674, -0.0459, -0.1897,  0.5394,  0.0784,\n",
       "                      -0.4504,  0.3686, -0.1534,  0.3119, -0.2617, -0.2869,  0.2144, -0.8911,\n",
       "                      -0.2300,  0.2153, -0.1972,  0.1424,  0.2676,  0.0735, -0.3527,  0.2362,\n",
       "                       0.0071,  0.0493, -0.4712, -0.3638, -0.0409,  0.2241, -0.1682, -0.3212,\n",
       "                      -0.1431,  0.4337,  0.3291,  0.3585, -0.0952, -0.3162, -0.0598, -0.4034,\n",
       "                       0.5929,  0.1734,  0.0043, -0.0671,  0.2141, -0.1122, -0.0581,  0.4142,\n",
       "                      -0.6637,  0.1316,  0.3910,  0.3382,  0.5180, -0.2702,  0.3431, -0.0609,\n",
       "                      -0.3873,  0.4730,  0.1226,  0.0275,  0.3443, -0.0966,  0.0608, -0.2225,\n",
       "                       0.2829,  0.2678, -0.2511,  0.0028, -0.1736, -0.1837,  0.5728, -0.3087,\n",
       "                      -0.1743,  0.6147,  0.1059, -0.3092,  0.4230,  0.2294,  0.1931, -0.2539,\n",
       "                       0.1566, -0.2525,  0.0111,  0.3564, -0.1441,  0.2773,  0.2227, -0.3578,\n",
       "                       0.1785,  0.4201, -0.1517, -0.2082,  0.4169, -0.3324,  0.2764, -0.3587,\n",
       "                       0.4493,  0.2026,  0.1760,  0.0066,  0.4142, -0.2375, -0.0896,  0.0411,\n",
       "                       0.5681,  0.4146,  0.0995,  0.2386,  0.4725,  0.5111,  0.5799, -0.0053,\n",
       "                      -0.3845, -0.1459,  0.3692,  0.5416,  0.3106, -0.2710, -0.2664, -0.3078,\n",
       "                       0.3897, -0.2920,  0.2725,  0.3352, -0.1862,  0.2825, -0.3022,  0.1517,\n",
       "                      -0.1824,  0.2412, -0.1057,  0.3290, -0.3854,  0.5049, -0.1794,  0.1987,\n",
       "                       0.1037,  0.3601,  0.0656, -0.1526,  0.3188,  0.2990, -0.4024,  0.3957,\n",
       "                       0.2415, -0.3332, -0.2397, -0.3389,  0.1300, -0.4946, -0.3471, -0.0510,\n",
       "                       0.0019, -0.4978,  0.0717, -0.1165,  0.5226, -0.2865,  0.0910,  0.3046,\n",
       "                      -0.0990,  0.1924, -0.3206, -0.2246, -0.3193, -0.1177,  0.2326, -0.2325,\n",
       "                      -0.1896, -0.4397, -0.2243, -0.2922, -0.3060,  0.3563,  0.0867,  0.1881,\n",
       "                      -0.2929, -0.2019, -0.2211, -0.1677,  0.3607,  0.0468,  0.3477,  0.2998,\n",
       "                       0.2599,  0.3244,  0.0403, -0.2006, -0.5707, -0.1338, -0.4066, -0.2222])),\n",
       "             ('critic.4.weight',\n",
       "              tensor([[ 0.7150,  0.1362,  0.5562, -0.3774, -0.3912, -0.7284,  0.1366,  0.3942,\n",
       "                       -0.2562,  0.5909, -0.3065, -0.4723, -0.2146,  0.5691, -0.4406, -0.0956,\n",
       "                       -0.2984, -0.2480,  0.2259, -0.2922, -0.3644,  0.3330, -0.0232, -0.3203,\n",
       "                       -0.3778, -0.1173,  0.3775,  0.0655,  0.1271,  0.6819, -0.1832, -0.2506,\n",
       "                        0.3416, -0.4207,  0.1416, -0.2251, -0.4697,  0.1531,  0.5253, -0.2049,\n",
       "                        0.3610,  0.1731,  0.1993,  0.0738, -0.2332, -0.0388,  0.3179,  0.0027,\n",
       "                       -0.3762, -0.4568,  0.4082,  0.4878, -0.2284, -0.3765, -0.7021, -0.5798,\n",
       "                       -0.4259,  0.4203, -0.4337,  0.4337, -0.2422, -0.0014,  0.3850, -0.3354,\n",
       "                        0.0734, -0.4680,  0.5204, -0.3626,  0.5563,  0.5357, -0.3281,  0.2152,\n",
       "                        0.2920,  0.1486, -0.3431, -0.2679, -0.4576,  0.0051,  0.4353,  0.2117,\n",
       "                       -0.2782, -0.1615, -0.0531,  0.5533,  0.6231,  0.4237,  0.3163, -0.4840,\n",
       "                       -0.3056,  0.5645, -0.4556,  0.1445, -0.4651,  0.0556, -0.4991,  0.5193,\n",
       "                       -0.2061,  0.6731,  0.1812, -0.5939, -0.6788, -0.1182,  0.3858, -0.1620,\n",
       "                        0.1957,  0.1496,  0.3430, -0.3933, -0.0262, -0.1900,  0.2496,  0.5480,\n",
       "                       -0.5024,  0.6707, -0.5008, -0.2156,  0.2311,  0.1535, -0.4613, -0.4746,\n",
       "                        0.5428,  0.1054, -0.1147,  0.6657,  0.1782, -0.2844,  0.4944,  0.4713,\n",
       "                        0.1511,  0.1429,  0.3734,  0.3047,  0.0363,  0.4779,  0.3909, -0.0969,\n",
       "                        0.3262, -0.5458,  0.1126,  0.1078, -0.7011,  0.2988, -0.4587,  0.5706,\n",
       "                        0.4941,  0.2279,  0.2851, -0.1608,  0.5801,  0.1759,  0.4297, -0.1880,\n",
       "                       -0.3728, -0.2105,  0.3185, -0.1241, -0.4484, -0.1034, -0.1756,  0.4188,\n",
       "                        0.4443,  0.2545,  0.3150,  0.1983,  0.3586,  0.0084,  0.3692,  0.2516,\n",
       "                        0.1617, -0.5745, -0.3801,  0.6701,  0.6318,  0.8833,  0.1766,  0.6817,\n",
       "                       -0.2908,  0.5103,  0.3683, -0.2225,  0.0856,  0.2361, -0.3235, -0.3393,\n",
       "                        0.1712, -0.3156, -0.1341,  0.4363,  0.0414,  0.4725,  0.2168,  0.2871,\n",
       "                       -0.2232, -0.3430,  0.1781, -0.3562, -0.5091,  0.2609,  0.1305, -0.8080,\n",
       "                        0.1201, -0.3555, -0.1990,  0.1402,  0.1434,  0.4125, -0.4400, -0.2593,\n",
       "                       -0.1126,  0.3551, -0.2336,  0.4837, -0.5559, -0.4837, -0.1431, -0.2598,\n",
       "                       -0.3536, -0.3744,  0.5742,  0.1348,  0.1823,  0.3456,  0.1919, -0.3754,\n",
       "                       -0.1334, -0.3517, -0.2783, -0.0704, -0.3766,  0.4358,  0.0152, -0.2089,\n",
       "                        0.1543,  0.3758,  0.4536,  0.1321,  0.1338,  0.1449, -0.4507,  0.1663,\n",
       "                       -0.2746,  0.1364, -0.7325,  0.1457,  0.0172,  0.3463, -0.4049,  0.1713,\n",
       "                        0.6407,  0.2915, -0.1458,  0.2749, -0.1908, -0.4251, -0.3121,  0.1867]])),\n",
       "             ('critic.4.bias', tensor([-0.0489]))])"
      ]
     },
     "execution_count": 26,
     "metadata": {},
     "output_type": "execute_result"
    }
   ],
   "source": [
    "policy.state_dict()"
   ]
  }
 ],
 "metadata": {
  "kernelspec": {
   "display_name": "IL",
   "language": "python",
   "name": "python3"
  },
  "language_info": {
   "codemirror_mode": {
    "name": "ipython",
    "version": 3
   },
   "file_extension": ".py",
   "mimetype": "text/x-python",
   "name": "python",
   "nbconvert_exporter": "python",
   "pygments_lexer": "ipython3",
   "version": "3.8.18"
  }
 },
 "nbformat": 4,
 "nbformat_minor": 2
}
