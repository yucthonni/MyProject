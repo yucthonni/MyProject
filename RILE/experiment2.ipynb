{
 "cells": [
  {
   "cell_type": "code",
   "execution_count": 3,
   "metadata": {},
   "outputs": [
    {
     "name": "stdout",
     "output_type": "stream",
     "text": [
      "cuda:0\n",
      "WARNING:tensorflow:Deprecation warnings have been disabled. Set TF_ENABLE_DEPRECATION_WARNINGS=1 to re-enable them.\n"
     ]
    },
    {
     "name": "stderr",
     "output_type": "stream",
     "text": [
      "2024-03-31 14:08:01.889424: I tensorflow/stream_executor/platform/default/dso_loader.cc:50] Successfully opened dynamic library libcudart.so.12\n"
     ]
    }
   ],
   "source": [
    "import torch\n",
    "import torch.nn as nn\n",
    "import numpy as np\n",
    "from tqdm import tqdm\n",
    "from specbuffer import ReplayBuffer\n",
    "from PPOee import PPO\n",
    "import gym\n",
    "from CustomEnv import CustomEnv\n",
    "from Student_Agent import StudentAgent\n",
    "from TeacherAgent import TeacherAgent\n",
    "from ExpertTrajectory import ExpertTrajectory\n",
    "\n",
    "import contextlib\n",
    "import network_sim\n",
    "from stable_baselines3 import PPO as sb3ppo\n",
    "import pickle"
   ]
  },
  {
   "cell_type": "code",
   "execution_count": 4,
   "metadata": {},
   "outputs": [
    {
     "name": "stdout",
     "output_type": "stream",
     "text": [
      "History length: 10\n",
      "Features: ['sent latency inflation', 'latency ratio', 'send ratio']\n",
      "Getting min obs for ['sent latency inflation', 'latency ratio', 'send ratio']\n"
     ]
    }
   ],
   "source": [
    "env=CustomEnv('PccNs-v0',1200)"
   ]
  },
  {
   "cell_type": "code",
   "execution_count": 10,
   "metadata": {},
   "outputs": [],
   "source": [
    "et=ExpertTrajectory(1600)"
   ]
  },
  {
   "cell_type": "code",
   "execution_count": 11,
   "metadata": {},
   "outputs": [
    {
     "name": "stderr",
     "output_type": "stream",
     "text": [
      "  0%|          | 0/40 [00:00<?, ?it/s]"
     ]
    },
    {
     "name": "stderr",
     "output_type": "stream",
     "text": [
      "400it [00:00, 814.82it/s]             \n"
     ]
    }
   ],
   "source": [
    "et.load_expert_model('verygood.zip')\n",
    "et.generate_trajectory(env,40)"
   ]
  },
  {
   "cell_type": "code",
   "execution_count": 5,
   "metadata": {},
   "outputs": [],
   "source": [
    "class Student(StudentAgent):\n",
    "    def __init__(self, state_dim, action_dim, env):\n",
    "        super().__init__(state_dim, action_dim, env)\n",
    "        \n",
    "    def generate_trajectory(self, step: int):\n",
    "        pb=tqdm(range(step))\n",
    "        for _ in pb:\n",
    "            s=self.env.reset()\n",
    "            d=False\n",
    "            while not d:\n",
    "                a,action,l,v=self.model.select_action(s)\n",
    "                s_,r,d,_=self.env.step(a)\n",
    "                self.model.buffer.store(s[-3:],a,l,s_,r,v,d)\n",
    "                s=s_\n",
    "            pb.update()"
   ]
  },
  {
   "cell_type": "code",
   "execution_count": 6,
   "metadata": {},
   "outputs": [],
   "source": [
    "sa=Student(30,1,env)"
   ]
  },
  {
   "cell_type": "code",
   "execution_count": 7,
   "metadata": {},
   "outputs": [
    {
     "name": "stderr",
     "output_type": "stream",
     "text": [
      "100%|██████████| 10/10 [00:07<00:00,  1.35it/s]\n"
     ]
    }
   ],
   "source": [
    "sa.generate_trajectory(10)"
   ]
  },
  {
   "cell_type": "code",
   "execution_count": 8,
   "metadata": {},
   "outputs": [
    {
     "name": "stderr",
     "output_type": "stream",
     "text": [
      "  0%|          | 0/10 [00:00<?, ?it/s]/home/tools/DR/MyProject/RILE/specbuffer.py:88: UserWarning: Creating a tensor from a list of numpy.ndarrays is extremely slow. Please consider converting the list to a single numpy.ndarray with numpy.array() before converting to a tensor. (Triggered internally at ../torch/csrc/utils/tensor_new.cpp:261.)\n",
      "  state=[torch.FloatTensor(self.get_state_padding(self.state[int(i/length)],i%length,10,True)[0]).view(-1) for i in index]\n",
      "100%|██████████| 10/10 [00:01<00:00,  8.59it/s]\n"
     ]
    }
   ],
   "source": [
    "sa.train(10,8)"
   ]
  },
  {
   "cell_type": "code",
   "execution_count": 40,
   "metadata": {},
   "outputs": [],
   "source": [
    "class Teacher(TeacherAgent):\n",
    "    def __init__(self, state_dim, action_dim, env:CustomEnv, expert_trajectory):\n",
    "        super().__init__(state_dim, action_dim, env, expert_trajectory)\n",
    "        \n",
    "    def ComputeReward(self):\n",
    "        pb=tqdm(range(min(self.trajectory_buffer.index,self.trajectory_buffer.buffer_size)))\n",
    "        for i in pb:\n",
    "            length=len(self.trajectory_buffer.state[0])\n",
    "            s=torch.FloatTensor(self.trajectory_buffer.get_state_padding(self.trajectory_buffer.state[int(i/length)],i%length,10,True)[1]).view(-1)\n",
    "            sa_pair=torch.cat((s,self.trajectory_buffer.action[i]),-1)\n",
    "            reward,_,l,v=self.model.select_action(sa_pair)\n",
    "            self.replay_buffer.store(\n",
    "                sa_pair,\n",
    "                reward,\n",
    "                l,\n",
    "                self.trajectory_buffer.next_state[i],\n",
    "                self.discriminator.model(sa_pair).detach().cpu().numpy(),\n",
    "                v,\n",
    "                self.trajectory_buffer.done[i]\n",
    "            )\n",
    "            self.trajectory_buffer.reward[i]=reward\n",
    "            pb.update()\n",
    "        self.discriminator.collect_expert()"
   ]
  },
  {
   "cell_type": "code",
   "execution_count": 41,
   "metadata": {},
   "outputs": [],
   "source": [
    "ta=Teacher(30,1,env,et)"
   ]
  },
  {
   "cell_type": "code",
   "execution_count": 42,
   "metadata": {},
   "outputs": [
    {
     "name": "stderr",
     "output_type": "stream",
     "text": [
      "100%|██████████| 1200/1200 [00:00<00:00, 1416.92it/s]\n"
     ]
    }
   ],
   "source": [
    "ta.ComputeReward()"
   ]
  },
  {
   "cell_type": "code",
   "execution_count": 44,
   "metadata": {},
   "outputs": [
    {
     "data": {
      "text/plain": [
       "tensor([[9.1664e-17, 1.0000e+00, 1.0490e+00, 0.0000e+00, 1.0000e+00, 1.0909e+00,\n",
       "         0.0000e+00, 1.0000e+00, 1.1212e+00, 0.0000e+00, 1.0000e+00, 1.0909e+00,\n",
       "         0.0000e+00, 1.0000e+00, 1.0588e+00, 0.0000e+00, 1.0000e+00, 1.0588e+00,\n",
       "         0.0000e+00, 1.0000e+00, 1.0278e+00, 0.0000e+00, 1.0000e+00, 1.0000e+00,\n",
       "         0.0000e+00, 1.0000e+00, 1.0909e+00, 0.0000e+00, 1.0000e+00, 1.0286e+00],\n",
       "        [0.0000e+00, 1.0000e+00, 1.0909e+00, 0.0000e+00, 1.0000e+00, 1.1212e+00,\n",
       "         0.0000e+00, 1.0000e+00, 1.0909e+00, 0.0000e+00, 1.0000e+00, 1.0588e+00,\n",
       "         0.0000e+00, 1.0000e+00, 1.0588e+00, 0.0000e+00, 1.0000e+00, 1.0278e+00,\n",
       "         0.0000e+00, 1.0000e+00, 1.0000e+00, 0.0000e+00, 1.0000e+00, 1.0909e+00,\n",
       "         0.0000e+00, 1.0000e+00, 1.0286e+00, 0.0000e+00, 1.0000e+00, 1.0286e+00]],\n",
       "       device='cuda:0')"
      ]
     },
     "execution_count": 44,
     "metadata": {},
     "output_type": "execute_result"
    }
   ],
   "source": [
    "ta.discriminator.sbuffer.from_after_state([0,1]).cuda()"
   ]
  },
  {
   "cell_type": "code",
   "execution_count": 47,
   "metadata": {},
   "outputs": [
    {
     "ename": "ValueError",
     "evalue": "only one element tensors can be converted to Python scalars",
     "output_type": "error",
     "traceback": [
      "\u001b[0;31m---------------------------------------------------------------------------\u001b[0m",
      "\u001b[0;31mValueError\u001b[0m                                Traceback (most recent call last)",
      "\u001b[1;32m/home/tools/DR/MyProject/RILE/experiment2.ipynb 单元格 13\u001b[0m line \u001b[0;36m1\n\u001b[0;32m----> <a href='vscode-notebook-cell:/home/tools/DR/MyProject/RILE/experiment2.ipynb#X21sZmlsZQ%3D%3D?line=0'>1</a>\u001b[0m ta\u001b[39m.\u001b[39;49mtrainPPO(\u001b[39m10\u001b[39;49m,\u001b[39m8\u001b[39;49m)\n",
      "File \u001b[0;32m/home/tools/DR/MyProject/RILE/TeacherAgent.py:35\u001b[0m, in \u001b[0;36mTeacherAgent.trainPPO\u001b[0;34m(self, total_timestep, batch_size)\u001b[0m\n\u001b[1;32m     33\u001b[0m \u001b[39mdef\u001b[39;00m \u001b[39mtrainPPO\u001b[39m(\u001b[39mself\u001b[39m,total_timestep:\u001b[39mint\u001b[39m,batch_size:\u001b[39mint\u001b[39m):\n\u001b[1;32m     34\u001b[0m     \u001b[39mfor\u001b[39;00m i \u001b[39min\u001b[39;00m \u001b[39mrange\u001b[39m(total_timestep):\n\u001b[0;32m---> 35\u001b[0m         \u001b[39mself\u001b[39;49m\u001b[39m.\u001b[39;49mmodel\u001b[39m.\u001b[39;49mupdate(batch_size)\n",
      "File \u001b[0;32m/home/tools/DR/MyProject/RILE/PPOee.py:193\u001b[0m, in \u001b[0;36mPPO.update\u001b[0;34m(self, batch_size)\u001b[0m\n\u001b[1;32m    186\u001b[0m rewards \u001b[39m=\u001b[39m (rewards \u001b[39m-\u001b[39m rewards\u001b[39m.\u001b[39mmean()) \u001b[39m/\u001b[39m (rewards\u001b[39m.\u001b[39mstd() \u001b[39m+\u001b[39m \u001b[39m1e-7\u001b[39m)\n\u001b[1;32m    188\u001b[0m \u001b[39m# convert list to tensor\u001b[39;00m\n\u001b[1;32m    189\u001b[0m \u001b[39m# old_states = torch.squeeze(torch.stack([self.buffer.state[i] for i in index])).detach().to(device)\u001b[39;00m\n\u001b[1;32m    190\u001b[0m \u001b[39m# old_actions = torch.squeeze(torch.stack([self.buffer.action[i] for i in index]), dim=0).detach().to(device)\u001b[39;00m\n\u001b[1;32m    191\u001b[0m \u001b[39m# old_logprobs = torch.squeeze(torch.stack([self.buffer.logprobs[i] for i in index], dim=0)).detach().to(device)\u001b[39;00m\n\u001b[1;32m    192\u001b[0m \u001b[39m# old_state_values = torch.squeeze(torch.stack([self.buffer.state_value[i] for i in index], dim=0)).detach().to(device)\u001b[39;00m\n\u001b[0;32m--> 193\u001b[0m old_states \u001b[39m=\u001b[39m \u001b[39mself\u001b[39;49m\u001b[39m.\u001b[39;49mbuffer\u001b[39m.\u001b[39;49mstate_from_index(index)\u001b[39m.\u001b[39mto(device)\n\u001b[1;32m    194\u001b[0m old_actions \u001b[39m=\u001b[39m torch\u001b[39m.\u001b[39mstack([\u001b[39mself\u001b[39m\u001b[39m.\u001b[39mbuffer\u001b[39m.\u001b[39maction[i] \u001b[39mfor\u001b[39;00m i \u001b[39min\u001b[39;00m index],dim\u001b[39m=\u001b[39m\u001b[39m0\u001b[39m)\u001b[39m.\u001b[39mdetach()\u001b[39m.\u001b[39mto(device)\n\u001b[1;32m    195\u001b[0m old_logprobs \u001b[39m=\u001b[39m torch\u001b[39m.\u001b[39mstack([\u001b[39mself\u001b[39m\u001b[39m.\u001b[39mbuffer\u001b[39m.\u001b[39mlogprobs[i] \u001b[39mfor\u001b[39;00m i \u001b[39min\u001b[39;00m index],dim\u001b[39m=\u001b[39m\u001b[39m0\u001b[39m)\u001b[39m.\u001b[39mdetach()\u001b[39m.\u001b[39mto(device)\n",
      "File \u001b[0;32m/home/tools/DR/MyProject/RILE/specbuffer.py:84\u001b[0m, in \u001b[0;36mReplayBuffer.state_from_index\u001b[0;34m(self, index)\u001b[0m\n\u001b[1;32m     82\u001b[0m     \u001b[39mreturn\u001b[39;00m \u001b[39mself\u001b[39m\u001b[39m.\u001b[39mfrom_after_state(index)\n\u001b[1;32m     83\u001b[0m \u001b[39melse\u001b[39;00m:\n\u001b[0;32m---> 84\u001b[0m     \u001b[39mreturn\u001b[39;00m \u001b[39mself\u001b[39;49m\u001b[39m.\u001b[39;49mfrom_before_state(index)\n",
      "File \u001b[0;32m/home/tools/DR/MyProject/RILE/specbuffer.py:88\u001b[0m, in \u001b[0;36mReplayBuffer.from_before_state\u001b[0;34m(self, index)\u001b[0m\n\u001b[1;32m     86\u001b[0m \u001b[39mdef\u001b[39;00m \u001b[39mfrom_before_state\u001b[39m(\u001b[39mself\u001b[39m,index:\u001b[39mlist\u001b[39m):\n\u001b[1;32m     87\u001b[0m     length\u001b[39m=\u001b[39m\u001b[39mlen\u001b[39m(\u001b[39mself\u001b[39m\u001b[39m.\u001b[39mstate[\u001b[39m0\u001b[39m])\n\u001b[0;32m---> 88\u001b[0m     state\u001b[39m=\u001b[39m[torch\u001b[39m.\u001b[39mFloatTensor(\u001b[39mself\u001b[39m\u001b[39m.\u001b[39mget_state_padding(\u001b[39mself\u001b[39m\u001b[39m.\u001b[39mstate[\u001b[39mint\u001b[39m(i\u001b[39m/\u001b[39mlength)],i\u001b[39m%\u001b[39mlength,\u001b[39m10\u001b[39m,\u001b[39mTrue\u001b[39;00m)[\u001b[39m0\u001b[39m])\u001b[39m.\u001b[39mview(\u001b[39m-\u001b[39m\u001b[39m1\u001b[39m) \u001b[39mfor\u001b[39;00m i \u001b[39min\u001b[39;00m index]\n\u001b[1;32m     89\u001b[0m     \u001b[39mreturn\u001b[39;00m torch\u001b[39m.\u001b[39mstack(state,dim\u001b[39m=\u001b[39m\u001b[39m0\u001b[39m)\u001b[39m.\u001b[39mdetach()\n",
      "File \u001b[0;32m/home/tools/DR/MyProject/RILE/specbuffer.py:88\u001b[0m, in \u001b[0;36m<listcomp>\u001b[0;34m(.0)\u001b[0m\n\u001b[1;32m     86\u001b[0m \u001b[39mdef\u001b[39;00m \u001b[39mfrom_before_state\u001b[39m(\u001b[39mself\u001b[39m,index:\u001b[39mlist\u001b[39m):\n\u001b[1;32m     87\u001b[0m     length\u001b[39m=\u001b[39m\u001b[39mlen\u001b[39m(\u001b[39mself\u001b[39m\u001b[39m.\u001b[39mstate[\u001b[39m0\u001b[39m])\n\u001b[0;32m---> 88\u001b[0m     state\u001b[39m=\u001b[39m[torch\u001b[39m.\u001b[39;49mFloatTensor(\u001b[39mself\u001b[39;49m\u001b[39m.\u001b[39;49mget_state_padding(\u001b[39mself\u001b[39;49m\u001b[39m.\u001b[39;49mstate[\u001b[39mint\u001b[39;49m(i\u001b[39m/\u001b[39;49mlength)],i\u001b[39m%\u001b[39;49mlength,\u001b[39m10\u001b[39;49m,\u001b[39mTrue\u001b[39;49;00m)[\u001b[39m0\u001b[39;49m])\u001b[39m.\u001b[39mview(\u001b[39m-\u001b[39m\u001b[39m1\u001b[39m) \u001b[39mfor\u001b[39;00m i \u001b[39min\u001b[39;00m index]\n\u001b[1;32m     89\u001b[0m     \u001b[39mreturn\u001b[39;00m torch\u001b[39m.\u001b[39mstack(state,dim\u001b[39m=\u001b[39m\u001b[39m0\u001b[39m)\u001b[39m.\u001b[39mdetach()\n",
      "\u001b[0;31mValueError\u001b[0m: only one element tensors can be converted to Python scalars"
     ]
    }
   ],
   "source": [
    "ta.trainPPO(10,8)"
   ]
  },
  {
   "cell_type": "code",
   "execution_count": 38,
   "metadata": {},
   "outputs": [],
   "source": [
    "import importlib\n",
    "module=importlib.import_module('Discriminator','Discriminator.py')\n"
   ]
  },
  {
   "cell_type": "code",
   "execution_count": 39,
   "metadata": {},
   "outputs": [],
   "source": [
    "d=module.Discriminator(31,1,8,sa.replay_buffer,et)"
   ]
  },
  {
   "cell_type": "code",
   "execution_count": 34,
   "metadata": {},
   "outputs": [],
   "source": [
    "d.collect_expert()"
   ]
  },
  {
   "cell_type": "code",
   "execution_count": 35,
   "metadata": {},
   "outputs": [],
   "source": [
    "d.collect_dist(8)"
   ]
  },
  {
   "cell_type": "code",
   "execution_count": 37,
   "metadata": {},
   "outputs": [],
   "source": [
    "d.update(100,False)"
   ]
  }
 ],
 "metadata": {
  "kernelspec": {
   "display_name": "IL",
   "language": "python",
   "name": "python3"
  },
  "language_info": {
   "codemirror_mode": {
    "name": "ipython",
    "version": 3
   },
   "file_extension": ".py",
   "mimetype": "text/x-python",
   "name": "python",
   "nbconvert_exporter": "python",
   "pygments_lexer": "ipython3",
   "version": "3.8.18"
  }
 },
 "nbformat": 4,
 "nbformat_minor": 2
}
