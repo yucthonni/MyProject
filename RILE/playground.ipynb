{
 "cells": [
  {
   "cell_type": "code",
   "execution_count": 1,
   "metadata": {},
   "outputs": [],
   "source": [
    "import gym\n",
    "import numpy as np\n",
    "from PPO import PPO\n",
    "from SAC import SAC\n",
    "import torch\n",
    "from tqdm import tqdm\n",
    "from buffer import ReplayBuffer\n",
    "from Discriminator import Discriminator"
   ]
  },
  {
   "cell_type": "code",
   "execution_count": 2,
   "metadata": {},
   "outputs": [],
   "source": [
    "device='cuda'\n",
    "BUFFER_SIZE=8192\n",
    "hidden_dim=32"
   ]
  },
  {
   "cell_type": "code",
   "execution_count": 3,
   "metadata": {},
   "outputs": [],
   "source": [
    "class CustomEnv:\n",
    "    def __init__(self,env_id):\n",
    "        self.env=gym.make(env_id)\n",
    "        self.replay_buffer=ReplayBuffer(8192)\n",
    "        \n",
    "    def reset(self):\n",
    "        return self.env.reset()\n",
    "    \n",
    "    def step(self,action):\n",
    "        return self.env.step(action)\n",
    "    \n",
    "    def get_state_dim(self):\n",
    "        return self.env.observation_space.shape\n",
    "    \n",
    "    def get_action_dim(self):\n",
    "        return self.env.action_space.shape"
   ]
  },
  {
   "cell_type": "code",
   "execution_count": 4,
   "metadata": {},
   "outputs": [],
   "source": [
    "class StudentAgent:\n",
    "    def __init__(self,state_dim,action_dim,max_action,env:CustomEnv):\n",
    "        self.env=env\n",
    "        self.replay_buffer=self.env.replay_buffer\n",
    "        # self.model=PPO(state_dim,action_dim,self.replay_buffer)\n",
    "        self.model=SAC(state_dim,action_dim,hidden_dim,max_action,self.replay_buffer)\n",
    "        \n",
    "    def generate_trajectory(self,step:int):\n",
    "        pb=tqdm(range(step))\n",
    "        num=0\n",
    "        for i in pb:\n",
    "            s=self.env.reset()\n",
    "            d=False\n",
    "            while not d:\n",
    "                a,action,l,v=self.model.select_action(s)\n",
    "                s_,r,d,_=self.env.step(a)\n",
    "                # print(type(r))\n",
    "                self.model.buffer.store(s,a,l,s_,r,v,d)\n",
    "                num+=1\n",
    "            pb.update()\n",
    "        print('生成',num,'条轨迹')   \n",
    "        \n",
    "    def train(self,total_timestep,batch_size):\n",
    "        pb=tqdm(range(total_timestep))\n",
    "        for i in pb:\n",
    "            self.model.update(batch_size)"
   ]
  },
  {
   "cell_type": "markdown",
   "metadata": {},
   "source": [
    "根据环境设置ta.state_dim=env.state_dim+env.action_dim\n",
    "\n",
    "更改取样函数，正常来说是取样state,action,reward,nextstate,done\n",
    "\n",
    "| Teacher Parameters | Student Parameters |\n",
    "| - | - |\n",
    "| state | state,action |\n",
    "| action | reward |\n",
    "| reward | D(s,a) |\n",
    "| state_ | state_ |\n",
    "| done | done |"
   ]
  },
  {
   "cell_type": "code",
   "execution_count": 5,
   "metadata": {},
   "outputs": [],
   "source": [
    "# class CustomSAC(SAC):\n",
    "#     def sample(self):\n",
    "#         return super().sample()\n",
    "class TeacherAgent:\n",
    "    def __init__(self,state_dim,action_dim,max_action,replay_buffer:ReplayBuffer):\n",
    "        self.replay_buffer=replay_buffer\n",
    "        self.model=SAC(np.prod(state_dim)+action_dim,1,hidden_dim,max_action,self.replay_buffer,spec=True)\n",
    "        self.discriminator=Discriminator(np.prod(state_dim)+action_dim,hidden_dim,64,replay_buffer,replay_buffer)\n",
    "        \n",
    "    def ComputeReward(self):\n",
    "        pb=tqdm(range(min(self.replay_buffer.index,self.replay_buffer.buffer_size)))\n",
    "        _state=[]\n",
    "        for i in pb:\n",
    "            state=torch.cat((self.replay_buffer.state[i],self.replay_buffer.action[i]))\n",
    "            _state.append(state)\n",
    "            pb.update()\n",
    "        _state=torch.stack(_state,dim=0)\n",
    "        self.replay_buffer.reward=torch.FloatTensor(self.model.select_action(_state))\n",
    "        self.replay_buffer.islatest=True\n",
    "        \n",
    "    def compute_teacher_reward(self):\n",
    "        pb=tqdm(range(min(self.replay_buffer.index,self.replay_buffer.buffer_size)))\n",
    "        for i in pb:\n",
    "            sap=torch.cat((self.replay_buffer.state[i],self.replay_buffer.action[i]),-1)\n",
    "            self.replay_buffer.teacher_reward[i]=self.discriminator.model(sap)\n",
    "            pb.update()\n",
    "    \n",
    "    #interface for changing state and action to state-action pairs\n",
    "    def teacher_sample(self):\n",
    "        state,action,reward,next_state,done=self.model.sample()\n",
    "        state=torch.cat((state,action),1)\n",
    "        if self.replay_buffer.islatest:\n",
    "            action=reward\n",
    "        else:\n",
    "            self.ComputeReward()\n",
    "        reward=self.compute_teacher_reward(state)\n",
    "        return state,action,reward,next_state,done\n",
    "    \n",
    "    def train(self,total_timestep:int):\n",
    "        pb=tqdm(range(total_timestep))\n",
    "        for _ in pb:\n",
    "            self.model.update()\n",
    "            pb.update()\n",
    "        self.replay_buffer.islatest=False\n",
    "    "
   ]
  },
  {
   "cell_type": "code",
   "execution_count": 6,
   "metadata": {},
   "outputs": [
    {
     "name": "stderr",
     "output_type": "stream",
     "text": [
      "/home/yuc/.local/lib/python3.8/site-packages/gym/envs/registration.py:555: UserWarning: \u001b[33mWARN: The environment Pendulum-v0 is out of date. You should consider upgrading to version `v1`.\u001b[0m\n",
      "  logger.warn(\n"
     ]
    },
    {
     "ename": "DeprecatedEnv",
     "evalue": "Environment version v0 for `Pendulum` is deprecated. Please use `Pendulum-v1` instead.",
     "output_type": "error",
     "traceback": [
      "\u001b[0;31m---------------------------------------------------------------------------\u001b[0m",
      "\u001b[0;31mDeprecatedEnv\u001b[0m                             Traceback (most recent call last)",
      "\u001b[1;32m/home/tools/DR/MyProject/RILE/playground.ipynb 单元格 7\u001b[0m line \u001b[0;36m1\n\u001b[0;32m----> <a href='vscode-notebook-cell:/home/tools/DR/MyProject/RILE/playground.ipynb#W6sZmlsZQ%3D%3D?line=0'>1</a>\u001b[0m custom_env\u001b[39m=\u001b[39mCustomEnv(\u001b[39m'\u001b[39;49m\u001b[39mPendulum-v0\u001b[39;49m\u001b[39m'\u001b[39;49m)\n",
      "\u001b[1;32m/home/tools/DR/MyProject/RILE/playground.ipynb 单元格 7\u001b[0m line \u001b[0;36m3\n\u001b[1;32m      <a href='vscode-notebook-cell:/home/tools/DR/MyProject/RILE/playground.ipynb#W6sZmlsZQ%3D%3D?line=1'>2</a>\u001b[0m \u001b[39mdef\u001b[39;00m \u001b[39m__init__\u001b[39m(\u001b[39mself\u001b[39m,env_id):\n\u001b[0;32m----> <a href='vscode-notebook-cell:/home/tools/DR/MyProject/RILE/playground.ipynb#W6sZmlsZQ%3D%3D?line=2'>3</a>\u001b[0m     \u001b[39mself\u001b[39m\u001b[39m.\u001b[39menv\u001b[39m=\u001b[39mgym\u001b[39m.\u001b[39;49mmake(env_id)\n\u001b[1;32m      <a href='vscode-notebook-cell:/home/tools/DR/MyProject/RILE/playground.ipynb#W6sZmlsZQ%3D%3D?line=3'>4</a>\u001b[0m     \u001b[39mself\u001b[39m\u001b[39m.\u001b[39mreplay_buffer\u001b[39m=\u001b[39mReplayBuffer(\u001b[39m8192\u001b[39m)\n",
      "File \u001b[0;32m~/.local/lib/python3.8/site-packages/gym/envs/registration.py:569\u001b[0m, in \u001b[0;36mmake\u001b[0;34m(id, max_episode_steps, autoreset, apply_api_compatibility, disable_env_checker, **kwargs)\u001b[0m\n\u001b[1;32m    563\u001b[0m         logger\u001b[39m.\u001b[39mwarn(\n\u001b[1;32m    564\u001b[0m             \u001b[39mf\u001b[39m\u001b[39m\"\u001b[39m\u001b[39mUsing the latest versioned environment `\u001b[39m\u001b[39m{\u001b[39;00mnew_env_id\u001b[39m}\u001b[39;00m\u001b[39m` \u001b[39m\u001b[39m\"\u001b[39m\n\u001b[1;32m    565\u001b[0m             \u001b[39mf\u001b[39m\u001b[39m\"\u001b[39m\u001b[39minstead of the unversioned environment `\u001b[39m\u001b[39m{\u001b[39;00m\u001b[39mid\u001b[39m\u001b[39m}\u001b[39;00m\u001b[39m`.\u001b[39m\u001b[39m\"\u001b[39m\n\u001b[1;32m    566\u001b[0m         )\n\u001b[1;32m    568\u001b[0m     \u001b[39mif\u001b[39;00m spec_ \u001b[39mis\u001b[39;00m \u001b[39mNone\u001b[39;00m:\n\u001b[0;32m--> 569\u001b[0m         _check_version_exists(ns, name, version)\n\u001b[1;32m    570\u001b[0m         \u001b[39mraise\u001b[39;00m error\u001b[39m.\u001b[39mError(\u001b[39mf\u001b[39m\u001b[39m\"\u001b[39m\u001b[39mNo registered env with id: \u001b[39m\u001b[39m{\u001b[39;00m\u001b[39mid\u001b[39m\u001b[39m}\u001b[39;00m\u001b[39m\"\u001b[39m)\n\u001b[1;32m    572\u001b[0m _kwargs \u001b[39m=\u001b[39m spec_\u001b[39m.\u001b[39mkwargs\u001b[39m.\u001b[39mcopy()\n",
      "File \u001b[0;32m~/.local/lib/python3.8/site-packages/gym/envs/registration.py:251\u001b[0m, in \u001b[0;36m_check_version_exists\u001b[0;34m(ns, name, version)\u001b[0m\n\u001b[1;32m    248\u001b[0m     \u001b[39mraise\u001b[39;00m error\u001b[39m.\u001b[39mVersionNotFound(message)\n\u001b[1;32m    250\u001b[0m \u001b[39mif\u001b[39;00m latest_spec \u001b[39mis\u001b[39;00m \u001b[39mnot\u001b[39;00m \u001b[39mNone\u001b[39;00m \u001b[39mand\u001b[39;00m version \u001b[39m<\u001b[39m latest_spec\u001b[39m.\u001b[39mversion:\n\u001b[0;32m--> 251\u001b[0m     \u001b[39mraise\u001b[39;00m error\u001b[39m.\u001b[39mDeprecatedEnv(\n\u001b[1;32m    252\u001b[0m         \u001b[39mf\u001b[39m\u001b[39m\"\u001b[39m\u001b[39mEnvironment version v\u001b[39m\u001b[39m{\u001b[39;00mversion\u001b[39m}\u001b[39;00m\u001b[39m for `\u001b[39m\u001b[39m{\u001b[39;00mget_env_id(ns,\u001b[39m \u001b[39mname,\u001b[39m \u001b[39m\u001b[39mNone\u001b[39;00m)\u001b[39m}\u001b[39;00m\u001b[39m` is deprecated. \u001b[39m\u001b[39m\"\u001b[39m\n\u001b[1;32m    253\u001b[0m         \u001b[39mf\u001b[39m\u001b[39m\"\u001b[39m\u001b[39mPlease use `\u001b[39m\u001b[39m{\u001b[39;00mlatest_spec\u001b[39m.\u001b[39mid\u001b[39m}\u001b[39;00m\u001b[39m` instead.\u001b[39m\u001b[39m\"\u001b[39m\n\u001b[1;32m    254\u001b[0m     )\n",
      "\u001b[0;31mDeprecatedEnv\u001b[0m: Environment version v0 for `Pendulum` is deprecated. Please use `Pendulum-v1` instead."
     ]
    }
   ],
   "source": [
    "custom_env=CustomEnv('Pendulum-v0')"
   ]
  },
  {
   "cell_type": "code",
   "execution_count": 23,
   "metadata": {},
   "outputs": [],
   "source": [
    "sa=StudentAgent(custom_env.get_state_dim()[0],custom_env.get_action_dim()[0],1,custom_env)"
   ]
  },
  {
   "cell_type": "code",
   "execution_count": 24,
   "metadata": {},
   "outputs": [
    {
     "name": "stderr",
     "output_type": "stream",
     "text": [
      "  0%|          | 0/10 [00:00<?, ?it/s]\n"
     ]
    },
    {
     "ename": "ValueError",
     "evalue": "not enough values to unpack (expected 4, got 1)",
     "output_type": "error",
     "traceback": [
      "\u001b[0;31m---------------------------------------------------------------------------\u001b[0m",
      "\u001b[0;31mValueError\u001b[0m                                Traceback (most recent call last)",
      "\u001b[1;32m/home/tools/DR/MyProject/RILE/playground.ipynb 单元格 9\u001b[0m line \u001b[0;36m1\n\u001b[0;32m----> <a href='vscode-notebook-cell:/home/tools/DR/MyProject/RILE/playground.ipynb#X11sZmlsZQ%3D%3D?line=0'>1</a>\u001b[0m sa\u001b[39m.\u001b[39;49mgenerate_trajectory(\u001b[39m10\u001b[39;49m)\n",
      "\u001b[1;32m/home/tools/DR/MyProject/RILE/playground.ipynb 单元格 9\u001b[0m line \u001b[0;36m1\n\u001b[1;32m     <a href='vscode-notebook-cell:/home/tools/DR/MyProject/RILE/playground.ipynb#X11sZmlsZQ%3D%3D?line=12'>13</a>\u001b[0m d\u001b[39m=\u001b[39m\u001b[39mFalse\u001b[39;00m\n\u001b[1;32m     <a href='vscode-notebook-cell:/home/tools/DR/MyProject/RILE/playground.ipynb#X11sZmlsZQ%3D%3D?line=13'>14</a>\u001b[0m \u001b[39mwhile\u001b[39;00m \u001b[39mnot\u001b[39;00m d:\n\u001b[0;32m---> <a href='vscode-notebook-cell:/home/tools/DR/MyProject/RILE/playground.ipynb#X11sZmlsZQ%3D%3D?line=14'>15</a>\u001b[0m     a,action,l,v\u001b[39m=\u001b[39m\u001b[39mself\u001b[39m\u001b[39m.\u001b[39mmodel\u001b[39m.\u001b[39mselect_action(s)\n\u001b[1;32m     <a href='vscode-notebook-cell:/home/tools/DR/MyProject/RILE/playground.ipynb#X11sZmlsZQ%3D%3D?line=15'>16</a>\u001b[0m     s_,r,d,_\u001b[39m=\u001b[39m\u001b[39mself\u001b[39m\u001b[39m.\u001b[39menv\u001b[39m.\u001b[39mstep(a)\n\u001b[1;32m     <a href='vscode-notebook-cell:/home/tools/DR/MyProject/RILE/playground.ipynb#X11sZmlsZQ%3D%3D?line=16'>17</a>\u001b[0m     \u001b[39m# print(type(r))\u001b[39;00m\n",
      "\u001b[0;31mValueError\u001b[0m: not enough values to unpack (expected 4, got 1)"
     ]
    }
   ],
   "source": [
    "sa.generate_trajectory(10)\n"
   ]
  },
  {
   "cell_type": "code",
   "execution_count": 9,
   "metadata": {},
   "outputs": [
    {
     "name": "stderr",
     "output_type": "stream",
     "text": [
      "100%|██████████| 10/10 [00:03<00:00,  2.66it/s]\n"
     ]
    }
   ],
   "source": [
    "sa.train(10,2048)"
   ]
  },
  {
   "cell_type": "code",
   "execution_count": 10,
   "metadata": {},
   "outputs": [],
   "source": [
    "ta=TeacherAgent(custom_env.get_state_dim(),custom_env.get_action_dim()[0],1,custom_env.replay_buffer)"
   ]
  },
  {
   "cell_type": "code",
   "execution_count": 11,
   "metadata": {},
   "outputs": [
    {
     "name": "stderr",
     "output_type": "stream",
     "text": [
      "100%|██████████| 2000/2000 [00:00<00:00, 536493.22it/s]\n",
      "100%|██████████| 2000/2000 [00:00<00:00, 30961.93it/s]\n"
     ]
    }
   ],
   "source": [
    "ta.ComputeReward()\n",
    "ta.compute_teacher_reward()"
   ]
  },
  {
   "cell_type": "code",
   "execution_count": 12,
   "metadata": {},
   "outputs": [],
   "source": [
    "s,_,_,_,_=ta.model.spec_sample()"
   ]
  },
  {
   "cell_type": "code",
   "execution_count": 13,
   "metadata": {},
   "outputs": [
    {
     "data": {
      "text/plain": [
       "torch.Size([64, 4])"
      ]
     },
     "execution_count": 13,
     "metadata": {},
     "output_type": "execute_result"
    }
   ],
   "source": [
    "s.shape"
   ]
  },
  {
   "cell_type": "code",
   "execution_count": 14,
   "metadata": {},
   "outputs": [
    {
     "name": "stderr",
     "output_type": "stream",
     "text": [
      "  0%|          | 0/10 [00:00<?, ?it/s]\n"
     ]
    },
    {
     "name": "stdout",
     "output_type": "stream",
     "text": [
      "spec\n"
     ]
    },
    {
     "ename": "RuntimeError",
     "evalue": "mat1 and mat2 shapes cannot be multiplied (64x3 and 4x32)",
     "output_type": "error",
     "traceback": [
      "\u001b[0;31m---------------------------------------------------------------------------\u001b[0m",
      "\u001b[0;31mRuntimeError\u001b[0m                              Traceback (most recent call last)",
      "\u001b[1;32m/home/tools/DR/MyProject/RILE/playground.ipynb 单元格 15\u001b[0m line \u001b[0;36m1\n\u001b[0;32m----> <a href='vscode-notebook-cell:/home/tools/DR/MyProject/RILE/playground.ipynb#X14sZmlsZQ%3D%3D?line=0'>1</a>\u001b[0m ta\u001b[39m.\u001b[39;49mtrain(\u001b[39m10\u001b[39;49m)\n",
      "\u001b[1;32m/home/tools/DR/MyProject/RILE/playground.ipynb 单元格 15\u001b[0m line \u001b[0;36m4\n\u001b[1;32m     <a href='vscode-notebook-cell:/home/tools/DR/MyProject/RILE/playground.ipynb#X14sZmlsZQ%3D%3D?line=39'>40</a>\u001b[0m pb\u001b[39m=\u001b[39mtqdm(\u001b[39mrange\u001b[39m(total_timestep))\n\u001b[1;32m     <a href='vscode-notebook-cell:/home/tools/DR/MyProject/RILE/playground.ipynb#X14sZmlsZQ%3D%3D?line=40'>41</a>\u001b[0m \u001b[39mfor\u001b[39;00m _ \u001b[39min\u001b[39;00m pb:\n\u001b[0;32m---> <a href='vscode-notebook-cell:/home/tools/DR/MyProject/RILE/playground.ipynb#X14sZmlsZQ%3D%3D?line=41'>42</a>\u001b[0m     \u001b[39mself\u001b[39;49m\u001b[39m.\u001b[39;49mmodel\u001b[39m.\u001b[39;49mupdate()\n\u001b[1;32m     <a href='vscode-notebook-cell:/home/tools/DR/MyProject/RILE/playground.ipynb#X14sZmlsZQ%3D%3D?line=42'>43</a>\u001b[0m     pb\u001b[39m.\u001b[39mupdate()\n\u001b[1;32m     <a href='vscode-notebook-cell:/home/tools/DR/MyProject/RILE/playground.ipynb#X14sZmlsZQ%3D%3D?line=43'>44</a>\u001b[0m \u001b[39mself\u001b[39m\u001b[39m.\u001b[39mreplay_buffer\u001b[39m.\u001b[39mislatest\u001b[39m=\u001b[39m\u001b[39mFalse\u001b[39;00m\n",
      "File \u001b[0;32m/home/tools/DR/MyProject/RILE/SAC.py:249\u001b[0m, in \u001b[0;36mSAC.update\u001b[0;34m(self)\u001b[0m\n\u001b[1;32m    247\u001b[0m \u001b[39m#计算alue值\u001b[39;00m\n\u001b[1;32m    248\u001b[0m value\u001b[39m=\u001b[39m\u001b[39mself\u001b[39m\u001b[39m.\u001b[39mvalue(state)\u001b[39m.\u001b[39mview(\u001b[39m-\u001b[39m\u001b[39m1\u001b[39m)\n\u001b[0;32m--> 249\u001b[0m next_value\u001b[39m=\u001b[39m\u001b[39mself\u001b[39;49m\u001b[39m.\u001b[39;49mtarget_value(next_state)\u001b[39m.\u001b[39mview(\u001b[39m-\u001b[39m\u001b[39m1\u001b[39m)\n\u001b[1;32m    251\u001b[0m \u001b[39m#选择动作\u001b[39;00m\n\u001b[1;32m    252\u001b[0m action_sampled,log_prob\u001b[39m=\u001b[39m\u001b[39mself\u001b[39m\u001b[39m.\u001b[39mactor\u001b[39m.\u001b[39mselect_action(state)\n",
      "File \u001b[0;32m/home/data/envs/IL/lib/python3.8/site-packages/torch/nn/modules/module.py:1518\u001b[0m, in \u001b[0;36mModule._wrapped_call_impl\u001b[0;34m(self, *args, **kwargs)\u001b[0m\n\u001b[1;32m   1516\u001b[0m     \u001b[39mreturn\u001b[39;00m \u001b[39mself\u001b[39m\u001b[39m.\u001b[39m_compiled_call_impl(\u001b[39m*\u001b[39margs, \u001b[39m*\u001b[39m\u001b[39m*\u001b[39mkwargs)  \u001b[39m# type: ignore[misc]\u001b[39;00m\n\u001b[1;32m   1517\u001b[0m \u001b[39melse\u001b[39;00m:\n\u001b[0;32m-> 1518\u001b[0m     \u001b[39mreturn\u001b[39;00m \u001b[39mself\u001b[39;49m\u001b[39m.\u001b[39;49m_call_impl(\u001b[39m*\u001b[39;49margs, \u001b[39m*\u001b[39;49m\u001b[39m*\u001b[39;49mkwargs)\n",
      "File \u001b[0;32m/home/data/envs/IL/lib/python3.8/site-packages/torch/nn/modules/module.py:1527\u001b[0m, in \u001b[0;36mModule._call_impl\u001b[0;34m(self, *args, **kwargs)\u001b[0m\n\u001b[1;32m   1522\u001b[0m \u001b[39m# If we don't have any hooks, we want to skip the rest of the logic in\u001b[39;00m\n\u001b[1;32m   1523\u001b[0m \u001b[39m# this function, and just call forward.\u001b[39;00m\n\u001b[1;32m   1524\u001b[0m \u001b[39mif\u001b[39;00m \u001b[39mnot\u001b[39;00m (\u001b[39mself\u001b[39m\u001b[39m.\u001b[39m_backward_hooks \u001b[39mor\u001b[39;00m \u001b[39mself\u001b[39m\u001b[39m.\u001b[39m_backward_pre_hooks \u001b[39mor\u001b[39;00m \u001b[39mself\u001b[39m\u001b[39m.\u001b[39m_forward_hooks \u001b[39mor\u001b[39;00m \u001b[39mself\u001b[39m\u001b[39m.\u001b[39m_forward_pre_hooks\n\u001b[1;32m   1525\u001b[0m         \u001b[39mor\u001b[39;00m _global_backward_pre_hooks \u001b[39mor\u001b[39;00m _global_backward_hooks\n\u001b[1;32m   1526\u001b[0m         \u001b[39mor\u001b[39;00m _global_forward_hooks \u001b[39mor\u001b[39;00m _global_forward_pre_hooks):\n\u001b[0;32m-> 1527\u001b[0m     \u001b[39mreturn\u001b[39;00m forward_call(\u001b[39m*\u001b[39;49margs, \u001b[39m*\u001b[39;49m\u001b[39m*\u001b[39;49mkwargs)\n\u001b[1;32m   1529\u001b[0m \u001b[39mtry\u001b[39;00m:\n\u001b[1;32m   1530\u001b[0m     result \u001b[39m=\u001b[39m \u001b[39mNone\u001b[39;00m\n",
      "File \u001b[0;32m/home/tools/DR/MyProject/RILE/SAC.py:163\u001b[0m, in \u001b[0;36mCritic.forward\u001b[0;34m(self, state)\u001b[0m\n\u001b[1;32m    162\u001b[0m \u001b[39mdef\u001b[39;00m \u001b[39mforward\u001b[39m(\u001b[39mself\u001b[39m,state):\n\u001b[0;32m--> 163\u001b[0m     \u001b[39mreturn\u001b[39;00m \u001b[39mself\u001b[39;49m\u001b[39m.\u001b[39;49mcritic(state)\n",
      "File \u001b[0;32m/home/data/envs/IL/lib/python3.8/site-packages/torch/nn/modules/module.py:1518\u001b[0m, in \u001b[0;36mModule._wrapped_call_impl\u001b[0;34m(self, *args, **kwargs)\u001b[0m\n\u001b[1;32m   1516\u001b[0m     \u001b[39mreturn\u001b[39;00m \u001b[39mself\u001b[39m\u001b[39m.\u001b[39m_compiled_call_impl(\u001b[39m*\u001b[39margs, \u001b[39m*\u001b[39m\u001b[39m*\u001b[39mkwargs)  \u001b[39m# type: ignore[misc]\u001b[39;00m\n\u001b[1;32m   1517\u001b[0m \u001b[39melse\u001b[39;00m:\n\u001b[0;32m-> 1518\u001b[0m     \u001b[39mreturn\u001b[39;00m \u001b[39mself\u001b[39;49m\u001b[39m.\u001b[39;49m_call_impl(\u001b[39m*\u001b[39;49margs, \u001b[39m*\u001b[39;49m\u001b[39m*\u001b[39;49mkwargs)\n",
      "File \u001b[0;32m/home/data/envs/IL/lib/python3.8/site-packages/torch/nn/modules/module.py:1527\u001b[0m, in \u001b[0;36mModule._call_impl\u001b[0;34m(self, *args, **kwargs)\u001b[0m\n\u001b[1;32m   1522\u001b[0m \u001b[39m# If we don't have any hooks, we want to skip the rest of the logic in\u001b[39;00m\n\u001b[1;32m   1523\u001b[0m \u001b[39m# this function, and just call forward.\u001b[39;00m\n\u001b[1;32m   1524\u001b[0m \u001b[39mif\u001b[39;00m \u001b[39mnot\u001b[39;00m (\u001b[39mself\u001b[39m\u001b[39m.\u001b[39m_backward_hooks \u001b[39mor\u001b[39;00m \u001b[39mself\u001b[39m\u001b[39m.\u001b[39m_backward_pre_hooks \u001b[39mor\u001b[39;00m \u001b[39mself\u001b[39m\u001b[39m.\u001b[39m_forward_hooks \u001b[39mor\u001b[39;00m \u001b[39mself\u001b[39m\u001b[39m.\u001b[39m_forward_pre_hooks\n\u001b[1;32m   1525\u001b[0m         \u001b[39mor\u001b[39;00m _global_backward_pre_hooks \u001b[39mor\u001b[39;00m _global_backward_hooks\n\u001b[1;32m   1526\u001b[0m         \u001b[39mor\u001b[39;00m _global_forward_hooks \u001b[39mor\u001b[39;00m _global_forward_pre_hooks):\n\u001b[0;32m-> 1527\u001b[0m     \u001b[39mreturn\u001b[39;00m forward_call(\u001b[39m*\u001b[39;49margs, \u001b[39m*\u001b[39;49m\u001b[39m*\u001b[39;49mkwargs)\n\u001b[1;32m   1529\u001b[0m \u001b[39mtry\u001b[39;00m:\n\u001b[1;32m   1530\u001b[0m     result \u001b[39m=\u001b[39m \u001b[39mNone\u001b[39;00m\n",
      "File \u001b[0;32m/home/data/envs/IL/lib/python3.8/site-packages/torch/nn/modules/container.py:215\u001b[0m, in \u001b[0;36mSequential.forward\u001b[0;34m(self, input)\u001b[0m\n\u001b[1;32m    213\u001b[0m \u001b[39mdef\u001b[39;00m \u001b[39mforward\u001b[39m(\u001b[39mself\u001b[39m, \u001b[39minput\u001b[39m):\n\u001b[1;32m    214\u001b[0m     \u001b[39mfor\u001b[39;00m module \u001b[39min\u001b[39;00m \u001b[39mself\u001b[39m:\n\u001b[0;32m--> 215\u001b[0m         \u001b[39minput\u001b[39m \u001b[39m=\u001b[39m module(\u001b[39minput\u001b[39;49m)\n\u001b[1;32m    216\u001b[0m     \u001b[39mreturn\u001b[39;00m \u001b[39minput\u001b[39m\n",
      "File \u001b[0;32m/home/data/envs/IL/lib/python3.8/site-packages/torch/nn/modules/module.py:1518\u001b[0m, in \u001b[0;36mModule._wrapped_call_impl\u001b[0;34m(self, *args, **kwargs)\u001b[0m\n\u001b[1;32m   1516\u001b[0m     \u001b[39mreturn\u001b[39;00m \u001b[39mself\u001b[39m\u001b[39m.\u001b[39m_compiled_call_impl(\u001b[39m*\u001b[39margs, \u001b[39m*\u001b[39m\u001b[39m*\u001b[39mkwargs)  \u001b[39m# type: ignore[misc]\u001b[39;00m\n\u001b[1;32m   1517\u001b[0m \u001b[39melse\u001b[39;00m:\n\u001b[0;32m-> 1518\u001b[0m     \u001b[39mreturn\u001b[39;00m \u001b[39mself\u001b[39;49m\u001b[39m.\u001b[39;49m_call_impl(\u001b[39m*\u001b[39;49margs, \u001b[39m*\u001b[39;49m\u001b[39m*\u001b[39;49mkwargs)\n",
      "File \u001b[0;32m/home/data/envs/IL/lib/python3.8/site-packages/torch/nn/modules/module.py:1527\u001b[0m, in \u001b[0;36mModule._call_impl\u001b[0;34m(self, *args, **kwargs)\u001b[0m\n\u001b[1;32m   1522\u001b[0m \u001b[39m# If we don't have any hooks, we want to skip the rest of the logic in\u001b[39;00m\n\u001b[1;32m   1523\u001b[0m \u001b[39m# this function, and just call forward.\u001b[39;00m\n\u001b[1;32m   1524\u001b[0m \u001b[39mif\u001b[39;00m \u001b[39mnot\u001b[39;00m (\u001b[39mself\u001b[39m\u001b[39m.\u001b[39m_backward_hooks \u001b[39mor\u001b[39;00m \u001b[39mself\u001b[39m\u001b[39m.\u001b[39m_backward_pre_hooks \u001b[39mor\u001b[39;00m \u001b[39mself\u001b[39m\u001b[39m.\u001b[39m_forward_hooks \u001b[39mor\u001b[39;00m \u001b[39mself\u001b[39m\u001b[39m.\u001b[39m_forward_pre_hooks\n\u001b[1;32m   1525\u001b[0m         \u001b[39mor\u001b[39;00m _global_backward_pre_hooks \u001b[39mor\u001b[39;00m _global_backward_hooks\n\u001b[1;32m   1526\u001b[0m         \u001b[39mor\u001b[39;00m _global_forward_hooks \u001b[39mor\u001b[39;00m _global_forward_pre_hooks):\n\u001b[0;32m-> 1527\u001b[0m     \u001b[39mreturn\u001b[39;00m forward_call(\u001b[39m*\u001b[39;49margs, \u001b[39m*\u001b[39;49m\u001b[39m*\u001b[39;49mkwargs)\n\u001b[1;32m   1529\u001b[0m \u001b[39mtry\u001b[39;00m:\n\u001b[1;32m   1530\u001b[0m     result \u001b[39m=\u001b[39m \u001b[39mNone\u001b[39;00m\n",
      "File \u001b[0;32m/home/data/envs/IL/lib/python3.8/site-packages/torch/nn/modules/linear.py:114\u001b[0m, in \u001b[0;36mLinear.forward\u001b[0;34m(self, input)\u001b[0m\n\u001b[1;32m    113\u001b[0m \u001b[39mdef\u001b[39;00m \u001b[39mforward\u001b[39m(\u001b[39mself\u001b[39m, \u001b[39minput\u001b[39m: Tensor) \u001b[39m-\u001b[39m\u001b[39m>\u001b[39m Tensor:\n\u001b[0;32m--> 114\u001b[0m     \u001b[39mreturn\u001b[39;00m F\u001b[39m.\u001b[39;49mlinear(\u001b[39minput\u001b[39;49m, \u001b[39mself\u001b[39;49m\u001b[39m.\u001b[39;49mweight, \u001b[39mself\u001b[39;49m\u001b[39m.\u001b[39;49mbias)\n",
      "\u001b[0;31mRuntimeError\u001b[0m: mat1 and mat2 shapes cannot be multiplied (64x3 and 4x32)"
     ]
    }
   ],
   "source": [
    "ta.train(10)"
   ]
  },
  {
   "cell_type": "code",
   "execution_count": null,
   "metadata": {},
   "outputs": [
    {
     "data": {
      "text/plain": [
       "torch.Size([8192, 1])"
      ]
     },
     "execution_count": 49,
     "metadata": {},
     "output_type": "execute_result"
    }
   ],
   "source": [
    "ta.replay_buffer.reward.shape"
   ]
  }
 ],
 "metadata": {
  "kernelspec": {
   "display_name": "IL",
   "language": "python",
   "name": "python3"
  },
  "language_info": {
   "codemirror_mode": {
    "name": "ipython",
    "version": 3
   },
   "file_extension": ".py",
   "mimetype": "text/x-python",
   "name": "python",
   "nbconvert_exporter": "python",
   "pygments_lexer": "ipython3",
   "version": "3.8.18"
  }
 },
 "nbformat": 4,
 "nbformat_minor": 2
}
