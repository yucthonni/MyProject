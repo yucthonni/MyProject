{
 "cells": [
  {
   "cell_type": "code",
   "execution_count": 1,
   "metadata": {},
   "outputs": [],
   "source": [
    "import ns3gym\n",
    "import gym"
   ]
  },
  {
   "cell_type": "code",
   "execution_count": 2,
   "metadata": {},
   "outputs": [],
   "source": [
    "from ns3gym import ns3env"
   ]
  },
  {
   "cell_type": "code",
   "execution_count": 1,
   "metadata": {},
   "outputs": [],
   "source": [
    "import sys\n",
    "import gym"
   ]
  },
  {
   "cell_type": "code",
   "execution_count": 2,
   "metadata": {},
   "outputs": [],
   "source": [
    "sys.path.insert(0,'../')\n",
    "import network_sim"
   ]
  },
  {
   "cell_type": "code",
   "execution_count": 3,
   "metadata": {},
   "outputs": [
    {
     "name": "stdout",
     "output_type": "stream",
     "text": [
      "History length: 10\n",
      "Features: ['sent latency inflation', 'latency ratio', 'send ratio']\n",
      "Getting min obs for ['sent latency inflation', 'latency ratio', 'send ratio']\n"
     ]
    },
    {
     "name": "stderr",
     "output_type": "stream",
     "text": [
      "/home/yuc/.local/lib/python3.8/site-packages/gym/spaces/box.py:127: UserWarning: \u001b[33mWARN: Box bound precision lowered by casting to float32\u001b[0m\n",
      "  logger.warn(f\"Box bound precision lowered by casting to {self.dtype}\")\n"
     ]
    }
   ],
   "source": [
    "env=gym.make('PccNs-v0')"
   ]
  },
  {
   "cell_type": "code",
   "execution_count": 6,
   "metadata": {},
   "outputs": [
    {
     "name": "stdout",
     "output_type": "stream",
     "text": [
      "Reward: 535.09, Ewma Reward: 12.17\n",
      "Reward: 539.82, Ewma Reward: 17.44\n",
      "Reward: 249.39, Ewma Reward: 19.76\n",
      "Reward: -109.31, Ewma Reward: 18.47\n",
      "Reward: -326.52, Ewma Reward: 15.02\n",
      "Reward: -422.65, Ewma Reward: 10.64\n",
      "Reward: 870.14, Ewma Reward: 19.24\n",
      "Reward: 761.65, Ewma Reward: 26.66\n",
      "Reward: 304.25, Ewma Reward: 29.44\n",
      "Reward: 478.88, Ewma Reward: 33.93\n"
     ]
    }
   ],
   "source": [
    "with open('log','w') as f:\n",
    "    for _ in range(10):\n",
    "        s=env.reset()\n",
    "        d=False\n",
    "        while not d:\n",
    "            print(s,file=f)\n",
    "            a=env.action_space.sample()\n",
    "            s,r,d,_=env.step(a)"
   ]
  }
 ],
 "metadata": {
  "kernelspec": {
   "display_name": "ns3",
   "language": "python",
   "name": "python3"
  },
  "language_info": {
   "codemirror_mode": {
    "name": "ipython",
    "version": 3
   },
   "file_extension": ".py",
   "mimetype": "text/x-python",
   "name": "python",
   "nbconvert_exporter": "python",
   "pygments_lexer": "ipython3",
   "version": "3.8.18"
  }
 },
 "nbformat": 4,
 "nbformat_minor": 2
}
