{
 "cells": [
  {
   "cell_type": "markdown",
   "metadata": {},
   "source": [
    "# Notebook"
   ]
  },
  {
   "cell_type": "markdown",
   "metadata": {},
   "source": [
    "## 一些关于Dist"
   ]
  },
  {
   "cell_type": "code",
   "execution_count": 25,
   "metadata": {},
   "outputs": [],
   "source": [
    "import torch\n",
    "from torch.distributions import Normal"
   ]
  },
  {
   "cell_type": "code",
   "execution_count": 26,
   "metadata": {},
   "outputs": [],
   "source": [
    "dist=Normal(loc=0,scale=2)"
   ]
  },
  {
   "cell_type": "code",
   "execution_count": 27,
   "metadata": {},
   "outputs": [],
   "source": [
    "action=dist.sample()"
   ]
  },
  {
   "cell_type": "code",
   "execution_count": 28,
   "metadata": {},
   "outputs": [],
   "source": [
    "entropy=dist.entropy()"
   ]
  },
  {
   "cell_type": "code",
   "execution_count": 31,
   "metadata": {},
   "outputs": [
    {
     "data": {
      "text/plain": [
       "tensor(0.6915)"
      ]
     },
     "execution_count": 31,
     "metadata": {},
     "output_type": "execute_result"
    }
   ],
   "source": [
    "dist.cdf(torch.tensor(1))"
   ]
  },
  {
   "cell_type": "code",
   "execution_count": 48,
   "metadata": {},
   "outputs": [
    {
     "name": "stdout",
     "output_type": "stream",
     "text": [
      "tensor([[-0.0560,  0.0762,  0.0540,  0.2109]], grad_fn=<AddmmBackward0>) tensor([[0.2191, 0.2501, 0.2446, 0.2862]], grad_fn=<SoftmaxBackward0>)\n"
     ]
    }
   ],
   "source": [
    "import torch\n",
    "import torch.nn as nn\n",
    "from torch.distributions import Categorical\n",
    "\n",
    "# 定义 Actor 网络\n",
    "class Actor(nn.Module):\n",
    "    def __init__(self, state_dim, action_dim):\n",
    "        super(Actor, self).__init__()\n",
    "        self.fc1 = nn.Linear(state_dim, 64)\n",
    "        self.fc2 = nn.Linear(64, action_dim)\n",
    "\n",
    "    def forward(self, state):\n",
    "        x = torch.relu(self.fc1(state))\n",
    "        x = self.fc2(x)\n",
    "        logits=torch.softmax(x,dim=-1)\n",
    "        print(x,logits)\n",
    "        dist = Categorical(logits=logits)\n",
    "        return dist\n",
    "\n",
    "# 创建 Actor 网络\n",
    "actor = Actor(10, 4)\n",
    "\n",
    "# 从 Actor 网络生成分布\n",
    "state = torch.rand(1, 10)\n",
    "dist = actor(state)\n",
    "\n",
    "# 从分布中采样一个动作\n",
    "action = dist.sample()\n",
    "\n",
    "# 计算分布的熵\n",
    "entropy = dist.entropy()\n"
   ]
  },
  {
   "cell_type": "code",
   "execution_count": 19,
   "metadata": {},
   "outputs": [
    {
     "name": "stdout",
     "output_type": "stream",
     "text": [
      "History length: 10\n",
      "Features: ['sent latency inflation', 'latency ratio', 'send ratio']\n",
      "Getting min obs for ['sent latency inflation', 'latency ratio', 'send ratio']\n",
      "Reward: 0.00, Ewma Reward: 0.00\n"
     ]
    },
    {
     "name": "stderr",
     "output_type": "stream",
     "text": [
      "/home/data/envs/IL/lib/python3.8/site-packages/gym/logger.py:30: UserWarning: \u001b[33mWARN: Box bound precision lowered by casting to float32\u001b[0m\n",
      "  warnings.warn(colorize('%s: %s'%('WARN', msg % args), 'yellow'))\n"
     ]
    }
   ],
   "source": [
    "import torch\n",
    "import torch.nn as nn\n",
    "import network_sim\n",
    "import gym\n",
    "\n",
    "env=gym.make('PccNs-v0')\n",
    "n_states=env.observation_space.shape[0]\n",
    "\n",
    "# 定义模块列表\n",
    "modules = [\n",
    "    nn.Linear(n_states, 10,dtype=float),  # 输入大小为 1，输出大小为 10 的线性层\n",
    "    nn.ReLU(),  # ReLU 激活函数\n",
    "    nn.Linear(10, 1,dtype=float)  # 输入大小为 10，输出大小为 1 的线性层\n",
    "]\n",
    "\n",
    "# 创建顺序模型\n",
    "model = nn.Sequential(*modules)\n",
    "\n",
    "# 输入数据\n",
    "state=env.reset()\n",
    "input = torch.from_numpy(state) # 形状为 (批次大小, 输入大小) 的张量\n",
    "\n",
    "# 前向传递\n",
    "output = model(input)  # 形状为 (批次大小, 输出大小) 的张量\n"
   ]
  },
  {
   "cell_type": "code",
   "execution_count": 18,
   "metadata": {},
   "outputs": [
    {
     "data": {
      "text/plain": [
       "tensor([-0.2016], dtype=torch.float64, grad_fn=<ViewBackward0>)"
      ]
     },
     "execution_count": 18,
     "metadata": {},
     "output_type": "execute_result"
    }
   ],
   "source": [
    "output"
   ]
  }
 ],
 "metadata": {
  "kernelspec": {
   "display_name": "IL",
   "language": "python",
   "name": "python3"
  },
  "language_info": {
   "codemirror_mode": {
    "name": "ipython",
    "version": 3
   },
   "file_extension": ".py",
   "mimetype": "text/x-python",
   "name": "python",
   "nbconvert_exporter": "python",
   "pygments_lexer": "ipython3",
   "version": "3.8.18"
  }
 },
 "nbformat": 4,
 "nbformat_minor": 2
}
