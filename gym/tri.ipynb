{
 "cells": [
  {
   "cell_type": "markdown",
   "metadata": {},
   "source": [
    "# SB2"
   ]
  },
  {
   "cell_type": "code",
   "execution_count": null,
   "metadata": {},
   "outputs": [],
   "source": [
    "import gym\n",
    "import network_sim\n",
    "from stable_baselines import PPO1\n",
    "from stable_baselines.common.policies import MlpPolicy"
   ]
  },
  {
   "cell_type": "code",
   "execution_count": null,
   "metadata": {},
   "outputs": [],
   "source": [
    "env=gym.make(\"PccNs-v0\")"
   ]
  },
  {
   "cell_type": "code",
   "execution_count": null,
   "metadata": {},
   "outputs": [],
   "source": [
    "model = PPO1(MlpPolicy, env, verbose=1, schedule='constant', timesteps_per_actorbatch=8192, optim_batchsize=2048, gamma=0.99,tensorboard_log='./output/sb2/')\n",
    "model.learn(total_timesteps=160*410)"
   ]
  },
  {
   "cell_type": "code",
   "execution_count": null,
   "metadata": {},
   "outputs": [],
   "source": [
    "model.save('sb2model.zip')"
   ]
  },
  {
   "cell_type": "markdown",
   "metadata": {},
   "source": [
    "# SB3"
   ]
  },
  {
   "cell_type": "code",
   "execution_count": null,
   "metadata": {},
   "outputs": [],
   "source": [
    "import gym\n",
    "import network_sim\n",
    "from stable_baselines3 import PPO\n",
    "from stable_baselines3.ppo import MlpPolicy"
   ]
  },
  {
   "cell_type": "code",
   "execution_count": null,
   "metadata": {},
   "outputs": [],
   "source": [
    "env=gym.make('PccNs-v0')"
   ]
  },
  {
   "cell_type": "code",
   "execution_count": null,
   "metadata": {},
   "outputs": [],
   "source": [
    "model3=PPO(MlpPolicy,env,verbose=1 ,gamma=0.99,tensorboard_log='./output/sb3/',n_steps=8192,batch_size=2048)"
   ]
  },
  {
   "cell_type": "markdown",
   "metadata": {},
   "source": [
    "### my_ppo"
   ]
  },
  {
   "cell_type": "code",
   "execution_count": 1,
   "metadata": {},
   "outputs": [],
   "source": [
    "import gym\n",
    "import network_sim"
   ]
  },
  {
   "cell_type": "code",
   "execution_count": 2,
   "metadata": {},
   "outputs": [
    {
     "name": "stdout",
     "output_type": "stream",
     "text": [
      "History length: 10\n",
      "Features: ['sent latency inflation', 'latency ratio', 'send ratio']\n",
      "Getting min obs for ['sent latency inflation', 'latency ratio', 'send ratio']\n"
     ]
    },
    {
     "name": "stderr",
     "output_type": "stream",
     "text": [
      "/home/data/envs/IL/lib/python3.8/site-packages/gym/logger.py:30: UserWarning: \u001b[33mWARN: Box bound precision lowered by casting to float32\u001b[0m\n",
      "  warnings.warn(colorize('%s: %s'%('WARN', msg % args), 'yellow'))\n"
     ]
    }
   ],
   "source": [
    "env=gym.make('PccNs-v0')"
   ]
  },
  {
   "cell_type": "code",
   "execution_count": 11,
   "metadata": {},
   "outputs": [
    {
     "name": "stdout",
     "output_type": "stream",
     "text": [
      "Reward: 3.94, Ewma Reward: 0.05\n"
     ]
    }
   ],
   "source": [
    "env.reset()\n",
    "env.step([1.0])\n",
    "s,r,_,_=env.step([2.0])"
   ]
  },
  {
   "cell_type": "code",
   "execution_count": 13,
   "metadata": {},
   "outputs": [
    {
     "data": {
      "text/plain": [
       "1.9864125044572398"
      ]
     },
     "execution_count": 13,
     "metadata": {},
     "output_type": "execute_result"
    }
   ],
   "source": [
    "r"
   ]
  },
  {
   "cell_type": "code",
   "execution_count": 1,
   "metadata": {},
   "outputs": [
    {
     "name": "stdout",
     "output_type": "stream",
     "text": [
      "============================================================================================\n",
      "Device set to : NVIDIA GeForce RTX 3060\n",
      "============================================================================================\n"
     ]
    }
   ],
   "source": [
    "from my_ppo_2 import PPO\n",
    "import gym"
   ]
  },
  {
   "cell_type": "code",
   "execution_count": 2,
   "metadata": {},
   "outputs": [],
   "source": [
    "env=gym.make('Pendulum-v0')"
   ]
  },
  {
   "cell_type": "code",
   "execution_count": 4,
   "metadata": {},
   "outputs": [],
   "source": [
    "model=PPO(env.observation_space.shape[0],env.action_space.shape[0],1e-3,1e-3,0.99,80,0.2,True)"
   ]
  },
  {
   "cell_type": "code",
   "execution_count": 5,
   "metadata": {},
   "outputs": [
    {
     "name": "stdout",
     "output_type": "stream",
     "text": [
      "--------------------------------------------------------------------------------------------\n",
      "setting actor output action_std to :  0.55\n",
      "--------------------------------------------------------------------------------------------\n"
     ]
    },
    {
     "ename": "KeyboardInterrupt",
     "evalue": "",
     "output_type": "error",
     "traceback": [
      "\u001b[0;31m---------------------------------------------------------------------------\u001b[0m",
      "\u001b[0;31mKeyboardInterrupt\u001b[0m                         Traceback (most recent call last)",
      "\u001b[1;32m/home/tools/DR/MyProject/gym/tri.ipynb 单元格 18\u001b[0m line \u001b[0;36m5\n\u001b[1;32m      <a href='vscode-notebook-cell:/home/tools/DR/MyProject/gym/tri.ipynb#X23sZmlsZQ%3D%3D?line=2'>3</a>\u001b[0m d\u001b[39m=\u001b[39m\u001b[39mFalse\u001b[39;00m\n\u001b[1;32m      <a href='vscode-notebook-cell:/home/tools/DR/MyProject/gym/tri.ipynb#X23sZmlsZQ%3D%3D?line=3'>4</a>\u001b[0m \u001b[39mwhile\u001b[39;00m \u001b[39mnot\u001b[39;00m d:\n\u001b[0;32m----> <a href='vscode-notebook-cell:/home/tools/DR/MyProject/gym/tri.ipynb#X23sZmlsZQ%3D%3D?line=4'>5</a>\u001b[0m     a\u001b[39m=\u001b[39mmodel\u001b[39m.\u001b[39;49mselect_action(s)\n\u001b[1;32m      <a href='vscode-notebook-cell:/home/tools/DR/MyProject/gym/tri.ipynb#X23sZmlsZQ%3D%3D?line=5'>6</a>\u001b[0m     s,r,d,_\u001b[39m=\u001b[39menv\u001b[39m.\u001b[39mstep(a)\n\u001b[1;32m      <a href='vscode-notebook-cell:/home/tools/DR/MyProject/gym/tri.ipynb#X23sZmlsZQ%3D%3D?line=7'>8</a>\u001b[0m     model\u001b[39m.\u001b[39mbuffer\u001b[39m.\u001b[39mrewards\u001b[39m.\u001b[39mappend(r)\n",
      "File \u001b[0;32m/home/tools/DR/MyProject/gym/my_ppo_2.py:180\u001b[0m, in \u001b[0;36mPPO.select_action\u001b[0;34m(self, state)\u001b[0m\n\u001b[1;32m    178\u001b[0m \u001b[39mwith\u001b[39;00m torch\u001b[39m.\u001b[39mno_grad():\n\u001b[1;32m    179\u001b[0m     state \u001b[39m=\u001b[39m torch\u001b[39m.\u001b[39mFloatTensor(state)\u001b[39m.\u001b[39mto(device)\n\u001b[0;32m--> 180\u001b[0m     action, action_logprob, state_val \u001b[39m=\u001b[39m \u001b[39mself\u001b[39;49m\u001b[39m.\u001b[39;49mpolicy_old\u001b[39m.\u001b[39;49mact(state)\n\u001b[1;32m    182\u001b[0m \u001b[39mself\u001b[39m\u001b[39m.\u001b[39mbuffer\u001b[39m.\u001b[39mstates\u001b[39m.\u001b[39mappend(state)\n\u001b[1;32m    183\u001b[0m \u001b[39mself\u001b[39m\u001b[39m.\u001b[39mbuffer\u001b[39m.\u001b[39mactions\u001b[39m.\u001b[39mappend(action)\n",
      "File \u001b[0;32m/home/tools/DR/MyProject/gym/my_ppo_2.py:91\u001b[0m, in \u001b[0;36mActorCritic.act\u001b[0;34m(self, state)\u001b[0m\n\u001b[1;32m     89\u001b[0m     action_mean \u001b[39m=\u001b[39m \u001b[39mself\u001b[39m\u001b[39m.\u001b[39mactor(state)\n\u001b[1;32m     90\u001b[0m     cov_mat \u001b[39m=\u001b[39m torch\u001b[39m.\u001b[39mdiag(\u001b[39mself\u001b[39m\u001b[39m.\u001b[39maction_var)\u001b[39m.\u001b[39munsqueeze(dim\u001b[39m=\u001b[39m\u001b[39m0\u001b[39m)\n\u001b[0;32m---> 91\u001b[0m     dist \u001b[39m=\u001b[39m MultivariateNormal(action_mean, cov_mat)\n\u001b[1;32m     92\u001b[0m \u001b[39melse\u001b[39;00m:\n\u001b[1;32m     93\u001b[0m     action_probs \u001b[39m=\u001b[39m \u001b[39mself\u001b[39m\u001b[39m.\u001b[39mactor(state)\n",
      "File \u001b[0;32m/home/data/envs/IL/lib/python3.8/site-packages/torch/distributions/multivariate_normal.py:182\u001b[0m, in \u001b[0;36mMultivariateNormal.__init__\u001b[0;34m(self, loc, covariance_matrix, precision_matrix, scale_tril, validate_args)\u001b[0m\n\u001b[1;32m    180\u001b[0m     \u001b[39mself\u001b[39m\u001b[39m.\u001b[39m_unbroadcasted_scale_tril \u001b[39m=\u001b[39m scale_tril\n\u001b[1;32m    181\u001b[0m \u001b[39melif\u001b[39;00m covariance_matrix \u001b[39mis\u001b[39;00m \u001b[39mnot\u001b[39;00m \u001b[39mNone\u001b[39;00m:\n\u001b[0;32m--> 182\u001b[0m     \u001b[39mself\u001b[39m\u001b[39m.\u001b[39m_unbroadcasted_scale_tril \u001b[39m=\u001b[39m torch\u001b[39m.\u001b[39;49mlinalg\u001b[39m.\u001b[39;49mcholesky(covariance_matrix)\n\u001b[1;32m    183\u001b[0m \u001b[39melse\u001b[39;00m:  \u001b[39m# precision_matrix is not None\u001b[39;00m\n\u001b[1;32m    184\u001b[0m     \u001b[39mself\u001b[39m\u001b[39m.\u001b[39m_unbroadcasted_scale_tril \u001b[39m=\u001b[39m _precision_to_scale_tril(precision_matrix)\n",
      "\u001b[0;31mKeyboardInterrupt\u001b[0m: "
     ]
    }
   ],
   "source": [
    "for t in range(1000):\n",
    "    s=env.reset()\n",
    "    d=False\n",
    "    while not d:\n",
    "        a=model.select_action(s)\n",
    "        s,r,d,_=env.step(a)\n",
    "        \n",
    "        model.buffer.rewards.append(r)\n",
    "        model.buffer.is_terminals.append(d)\n",
    "    \n",
    "    if t%50==0:  \n",
    "        model.update()\n",
    "    if t%100==0:\n",
    "        model.decay_action_std(0.05,0.1)"
   ]
  },
  {
   "cell_type": "code",
   "execution_count": 6,
   "metadata": {},
   "outputs": [],
   "source": [
    "s=env.reset()\n",
    "d=False\n",
    "while not d:\n",
    "    a=model.select_action(s)\n",
    "    s,r,d,_=env.step(a)"
   ]
  },
  {
   "cell_type": "code",
   "execution_count": 9,
   "metadata": {},
   "outputs": [],
   "source": [
    "i=np.random.choice(10,200,True)"
   ]
  },
  {
   "cell_type": "code",
   "execution_count": 10,
   "metadata": {},
   "outputs": [
    {
     "ename": "TypeError",
     "evalue": "only integer scalar arrays can be converted to a scalar index",
     "output_type": "error",
     "traceback": [
      "\u001b[0;31m---------------------------------------------------------------------------\u001b[0m",
      "\u001b[0;31mTypeError\u001b[0m                                 Traceback (most recent call last)",
      "\u001b[1;32m/home/tools/DR/MyProject/gym/tri.ipynb 单元格 21\u001b[0m line \u001b[0;36m1\n\u001b[0;32m----> <a href='vscode-notebook-cell:/home/tools/DR/MyProject/gym/tri.ipynb#X26sZmlsZQ%3D%3D?line=0'>1</a>\u001b[0m model\u001b[39m.\u001b[39;49mbuffer\u001b[39m.\u001b[39;49mstates[i]\n",
      "\u001b[0;31mTypeError\u001b[0m: only integer scalar arrays can be converted to a scalar index"
     ]
    }
   ],
   "source": [
    "model.buffer.states[i]"
   ]
  }
 ],
 "metadata": {
  "kernelspec": {
   "display_name": "IL",
   "language": "python",
   "name": "python3"
  },
  "language_info": {
   "codemirror_mode": {
    "name": "ipython",
    "version": 3
   },
   "file_extension": ".py",
   "mimetype": "text/x-python",
   "name": "python",
   "nbconvert_exporter": "python",
   "pygments_lexer": "ipython3",
   "version": "3.8.18"
  }
 },
 "nbformat": 4,
 "nbformat_minor": 2
}
